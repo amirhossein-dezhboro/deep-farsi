{
  "nbformat": 4,
  "nbformat_minor": 0,
  "metadata": {
    "colab": {
      "name": "handwritting.ipynb",
      "version": "0.3.2",
      "provenance": [],
      "collapsed_sections": [],
      "include_colab_link": true
    },
    "kernelspec": {
      "name": "python3",
      "display_name": "Python 3"
    },
    "accelerator": "GPU"
  },
  "cells": [
    {
      "cell_type": "markdown",
      "metadata": {
        "id": "view-in-github",
        "colab_type": "text"
      },
      "source": [
        "<a href=\"https://colab.research.google.com/github/the-real-dezhi/deep-farsi/blob/master/handwritting2.ipynb\" target=\"_parent\"><img src=\"https://colab.research.google.com/assets/colab-badge.svg\" alt=\"Open In Colab\"/></a>"
      ]
    },
    {
      "cell_type": "markdown",
      "metadata": {
        "id": "u23OS3jgNGzR",
        "colab_type": "text"
      },
      "source": [
        "# **1 Preprocessing Stage**\n",
        "The preprocessing of the dataset is one of the most important and time-consuming steps of any deep learning project. Most of the time, we have a dataset that is not well-processed and ready to be fed into a neural network. Sometimes, the data might even be clean and organized, but not suitable to fit to our problem.\n",
        "\n",
        "In this scenario, we have a dataset of Persian handwritten digits and we want to recognize digits only by looking at their image. Here is a brief stat of our dataset:\n"
      ]
    },
    {
      "cell_type": "code",
      "metadata": {
        "id": "tSZ2BkPyT712",
        "colab_type": "code",
        "colab": {
          "base_uri": "https://localhost:8080/",
          "height": 87
        },
        "outputId": "cbe6b7c4-69e2-4367-ab22-db7238c1a7cf"
      },
      "source": [
        "# Download the dataset and unzip\n",
        "! wget -q http://iust-deep-learning.github.io/972/static_files/assignments/asg01_assets/data.zip\n",
        "! unzip data.zip -d ."
      ],
      "execution_count": 3,
      "outputs": [
        {
          "output_type": "stream",
          "text": [
            "Archive:  data.zip\n",
            "  inflating: ./test.cdb              \n",
            "  inflating: ./train.cdb             \n",
            "  inflating: ./util.py               \n"
          ],
          "name": "stdout"
        }
      ]
    },
    {
      "cell_type": "markdown",
      "metadata": {
        "id": "3HVKdbPbQRR_",
        "colab_type": "text"
      },
      "source": [
        " we have to import some prerequisites:"
      ]
    },
    {
      "cell_type": "code",
      "metadata": {
        "id": "_bsmb0jFPzlu",
        "colab_type": "code",
        "colab": {
          "base_uri": "https://localhost:8080/",
          "height": 34
        },
        "outputId": "a27c3635-21af-4d9d-c32f-cca9ee082f23"
      },
      "source": [
        "import random\n",
        "import numpy as np\n",
        "import matplotlib.pyplot as plt\n",
        "plt.rcParams['figure.figsize'] = (7,9) # Make the figures a bit bigger\n",
        "import cv2\n",
        "from keras.utils import to_categorical\n",
        "\n",
        "from util import read_raw_dataset"
      ],
      "execution_count": 4,
      "outputs": [
        {
          "output_type": "stream",
          "text": [
            "Using TensorFlow backend.\n"
          ],
          "name": "stderr"
        }
      ]
    },
    {
      "cell_type": "markdown",
      "metadata": {
        "id": "pz4z_6REQLJX",
        "colab_type": "text"
      },
      "source": [
        "Let's load the dataset using the provided function read_raw_dataset:\n",
        "\n"
      ]
    },
    {
      "cell_type": "code",
      "metadata": {
        "id": "IzU6qLiIP4x3",
        "colab_type": "code",
        "outputId": "626142b4-bb18-4010-d93d-cc7d4d075653",
        "colab": {
          "base_uri": "https://localhost:8080/",
          "height": 157
        }
      },
      "source": [
        "\n",
        "ds_images, ds_labels = read_raw_dataset(\"train.cdb\")\n",
        "\n",
        "print(\"Images:\")\n",
        "print(type(ds_images))\n",
        "print(len(ds_images))\n",
        "print(type(ds_images[0]))\n",
        "print(ds_images[0].shape)\n",
        "\n",
        "print(\"\\nLabels:\")\n",
        "print(ds_labels[:30])"
      ],
      "execution_count": 5,
      "outputs": [
        {
          "output_type": "stream",
          "text": [
            "Images:\n",
            "<class 'list'>\n",
            "60000\n",
            "<class 'numpy.ndarray'>\n",
            "(27, 20)\n",
            "\n",
            "Labels:\n",
            "[6, 5, 0, 2, 7, 0, 7, 5, 0, 7, 0, 6, 3, 6, 5, 5, 3, 3, 2, 9, 6, 3, 4, 4, 0, 7, 2, 7, 8, 6]\n"
          ],
          "name": "stdout"
        }
      ]
    },
    {
      "cell_type": "markdown",
      "metadata": {
        "id": "VG9Pb6wnNWj5",
        "colab_type": "text"
      },
      "source": [
        "As you can see, train_images is a list of images and train_labels contains the labels for each element in the image list. Each image is represented as 2D (numpy) array of floats/ints.\n",
        "\n",
        "So, lets look at some of the images:"
      ]
    },
    {
      "cell_type": "code",
      "metadata": {
        "id": "nqDob5S5QZ8T",
        "colab_type": "code",
        "outputId": "996e5117-c0da-4b21-8118-7f287651d48f",
        "colab": {
          "base_uri": "https://localhost:8080/",
          "height": 496
        }
      },
      "source": [
        "# Randomly sample images, Re run the cell to see new images.\n",
        "plt.figure(figsize=(12,8))\n",
        "for i, index in enumerate(random.sample(list(range(len(ds_images))), 10)):\n",
        "    plt.subplot(2,5,i+1)\n",
        "    plt.imshow(ds_images[index], cmap='gray', interpolation='none')\n",
        "    plt.title(\"Label {}\".format(ds_labels[index]))"
      ],
      "execution_count": 6,
      "outputs": [
        {
          "output_type": "display_data",
          "data": {
            "image/png": "[encoded data removed]",
            "text/plain": [
              "<Figure size 864x576 with 10 Axes>"
            ]
          },
          "metadata": {
            "tags": []
          }
        }
      ]
    },
    {
      "cell_type": "markdown",
      "metadata": {
        "id": "3NjYlhvKvEaj",
        "colab_type": "text"
      },
      "source": [
        "Pretty great! ha? But it seems images are not in a fixed dimension. Let's check our hypothesis:\n",
        "\n"
      ]
    },
    {
      "cell_type": "code",
      "metadata": {
        "id": "FGZccBgnkpZr",
        "colab_type": "code",
        "outputId": "7a878ee2-d54f-456d-9592-4ef23a29b87e",
        "colab": {
          "base_uri": "https://localhost:8080/",
          "height": 72
        }
      },
      "source": [
        "unique_heights = list(set([m.shape[0] for m in ds_images]))\n",
        "print(\"unique heights:\", unique_heights)\n",
        "\n",
        "unique_widths = list(set([m.shape[1] for m in ds_images]))\n",
        "print(\"unique widths:\", unique_widths)"
      ],
      "execution_count": 7,
      "outputs": [
        {
          "output_type": "stream",
          "text": [
            "unique heights: [4, 5, 6, 7, 8, 9, 10, 11, 12, 13, 14, 15, 16, 17, 18, 19, 20, 21, 22, 23, 24, 25, 26, 27, 28, 29, 30, 31, 32, 33, 34, 35, 36, 37, 38, 39, 40, 41, 42, 43, 44, 45, 46, 47, 48, 49, 50, 51, 52, 53, 54, 55, 56, 57, 58, 59, 60, 61, 62]\n",
            "unique widths: [3, 4, 5, 6, 7, 8, 9, 10, 11, 12, 13, 14, 15, 16, 17, 18, 19, 20, 21, 22, 23, 24, 25, 26, 27, 28, 29, 30, 31, 32, 33, 34, 35, 36, 37, 38, 39, 40, 41, 42, 43, 44, 45, 46, 47, 48, 50, 51]\n"
          ],
          "name": "stdout"
        }
      ]
    },
    {
      "cell_type": "markdown",
      "metadata": {
        "id": "zdOBf8xQvKZT",
        "colab_type": "text"
      },
      "source": [
        "Unfortunately, the images in our dataset do not have equal dimensions. So, we have to implement a function to fit the image in a fixed frame.\n",
        "\n",
        "Note: There might be a situation where the image is bigger than the frame size; So, we first need to scale it down and then fit it into a fixed frame."
      ]
    },
    {
      "cell_type": "code",
      "metadata": {
        "id": "XH1wtxfwvLMw",
        "colab_type": "code",
        "colab": {}
      },
      "source": [
        "def fit_and_resize_image(src_image, dst_image_size):\n",
        "\n",
        "  dst_image_height = 32\n",
        "  dst_image_width = dst_image_height\n",
        "    \n",
        "  src_image_height = src_image.shape[0]\n",
        "  src_image_width = src_image.shape[1]\n",
        "\n",
        "  if src_image_height > dst_image_height or src_image_width > dst_image_width:\n",
        "      height_scale = dst_image_height / src_image_height\n",
        "      width_scale = dst_image_width / src_image_width\n",
        "      scale = min(height_scale, width_scale)\n",
        "      img = cv2.resize(src=src_image, dsize=(0, 0), fx=scale, fy=scale, interpolation=cv2.INTER_CUBIC)\n",
        "  else:\n",
        "      img = src_image\n",
        "\n",
        "  img_height = img.shape[0]\n",
        "  img_width = img.shape[1]\n",
        "\n",
        "  dst_image = np.zeros(shape=[dst_image_height, dst_image_width], dtype=np.uint8)\n",
        "\n",
        "  y_offset = (dst_image_height - img_height) // 2\n",
        "  x_offset = (dst_image_width - img_width) // 2\n",
        "\n",
        "  dst_image[y_offset:y_offset+img_height, x_offset:x_offset+img_width] = img\n",
        "\n",
        "  return dst_image"
      ],
      "execution_count": 0,
      "outputs": []
    },
    {
      "cell_type": "code",
      "metadata": {
        "id": "GO21lmEGvR11",
        "colab_type": "code",
        "colab": {}
      },
      "source": [
        "# Define a constant for our image size.\n",
        "IMAGE_SIZE = 32"
      ],
      "execution_count": 0,
      "outputs": []
    },
    {
      "cell_type": "code",
      "metadata": {
        "id": "UOfawFO9vVas",
        "colab_type": "code",
        "outputId": "c6a1df62-ef77-4cc7-fa3b-443f6c75a8c5",
        "colab": {
          "base_uri": "https://localhost:8080/",
          "height": 365
        }
      },
      "source": [
        "plt.subplot(1,2,1); plt.imshow(ds_images[72], cmap='gray', interpolation='none'); plt.title('Before')\n",
        "plt.subplot(1,2,2); plt.imshow(fit_and_resize_image(ds_images[72], IMAGE_SIZE), cmap='gray', interpolation='none'); plt.title('After')"
      ],
      "execution_count": 10,
      "outputs": [
        {
          "output_type": "execute_result",
          "data": {
            "text/plain": [
              "Text(0.5, 1.0, 'After')"
            ]
          },
          "metadata": {
            "tags": []
          },
          "execution_count": 10
        },
        {
          "output_type": "display_data",
          "data": {
            "image/png": "[encoded data removed]",
            "text/plain": [
              "<Figure size 504x648 with 2 Axes>"
            ]
          },
          "metadata": {
            "tags": []
          }
        }
      ]
    },
    {
      "cell_type": "markdown",
      "metadata": {
        "id": "5ESfY1BMxpCt",
        "colab_type": "text"
      },
      "source": [
        " Now it's time to use that and create a function to read the dataset, process it, and return it as a Numpy array. As you may have noticed, image values are in the 0-255 range (0 is black and 255 is white). Generally, we first normalize our input when we want to feed them into a neural network. So, don't forget to normalize the images.\n",
        "\n",
        "Note: When we're solving a multi-label classification probelm it is important for the labels to be in one-hot format. So we need to convert them to one-hot format before returning the function."
      ]
    },
    {
      "cell_type": "code",
      "metadata": {
        "id": "kaXRIdbTxn13",
        "colab_type": "code",
        "colab": {}
      },
      "source": [
        "def read_dataset(dataset_path, images_size=32):\n",
        "  \n",
        "  \"\"\"\n",
        "  Read & process Persian handwritten digits dataset\n",
        "  \n",
        "  Args:\n",
        "    dataset_path: path to dataset file\n",
        "    image_size: size that should be fixed for all images.\n",
        "    \n",
        "  Returns:\n",
        "    X: numpy ndarry with shape (num_samples, images_size, images_size) for normalized images \n",
        "    y: numpy ndarry with shape (num_samples, 10) for labels in one-hot format\n",
        "  \"\"\"\n",
        "  \n",
        "  images, labels = read_raw_dataset(dataset_path)\n",
        "\n",
        "  X = np.zeros(shape=[len(images), images_size, images_size], dtype=np.float32)\n",
        "\n",
        "  for i, img in enumerate(images):\n",
        "    X[i] = fit_and_resize_image(img, IMAGE_SIZE) / 255.0\n",
        "  \n",
        "  Y = to_categorical(labels, num_classes=10, dtype=np.int)\n",
        "  \n",
        "  return X, Y"
      ],
      "execution_count": 0,
      "outputs": []
    },
    {
      "cell_type": "markdown",
      "metadata": {
        "id": "HgxvttmCzakr",
        "colab_type": "text"
      },
      "source": [
        "\n",
        "**Why should we normalize images to the [0-1] range?**\n",
        "Normalizing inputs make them have similar scales. This property will lead to a symmetric cost function, which is easier and faster to optimize."
      ]
    },
    {
      "cell_type": "markdown",
      "metadata": {
        "id": "QR3HtA0OzoZ7",
        "colab_type": "text"
      },
      "source": [
        "Great! Now we have everything ready to build our neural network.\n",
        "\n"
      ]
    },
    {
      "cell_type": "code",
      "metadata": {
        "id": "jZCLhHSFwo5L",
        "colab_type": "code",
        "colab": {}
      },
      "source": [
        "train_images, train_labels = read_dataset(\"train.cdb\", IMAGE_SIZE)\n",
        "test_images, test_labels = read_dataset(\"test.cdb\", IMAGE_SIZE)\n",
        "\n",
        "assert train_images.shape == (60000, IMAGE_SIZE, IMAGE_SIZE)\n",
        "assert test_images.shape == (20000, IMAGE_SIZE, IMAGE_SIZE)\n",
        "\n",
        "assert train_labels.shape == (60000, 10)\n",
        "assert test_labels.shape == (20000, 10)\n",
        "\n",
        "assert train_images.mean() > 0.0\n",
        "assert test_images.mean() > 0.0\n",
        "\n",
        "assert 0. <= train_images.min() and train_images.max() <= 1\n",
        "assert 0. <= test_images.min() and test_images.max() <= 1"
      ],
      "execution_count": 0,
      "outputs": []
    },
    {
      "cell_type": "code",
      "metadata": {
        "id": "4-seuosOzqla",
        "colab_type": "code",
        "colab": {
          "base_uri": "https://localhost:8080/",
          "height": 465
        },
        "outputId": "eb4874a4-ebd4-4698-8dfd-219e5ff97382"
      },
      "source": [
        "plt.figure(figsize=(10,8))\n",
        "for i, index in enumerate(random.sample(list(range(len(train_images))), 6)):\n",
        "    plt.subplot(2,3,i+1)\n",
        "    plt.imshow(train_images[index], cmap='gray', interpolation='none')\n",
        "    plt.title(\"Label {}\".format(str(np.argmax(train_labels[index]))))"
      ],
      "execution_count": 13,
      "outputs": [
        {
          "output_type": "display_data",
          "data": {
            "image/png": "[encoded data removed]",
            "text/plain": [
              "<Figure size 720x576 with 6 Axes>"
            ]
          },
          "metadata": {
            "tags": []
          }
        }
      ]
    },
    {
      "cell_type": "markdown",
      "metadata": {
        "id": "purPmTt3z0x3",
        "colab_type": "text"
      },
      "source": [
        "# **2 Building the model**\n",
        "\n",
        "In class, we exclusively used Keras Layers API to build a neural network; but, now, we want to get a little deeper and see what's going on behind this API.\n",
        "\n",
        "## **2.1 Low level implementation**\n",
        "When we code in Keras, we are simply stacking up layer instances. However the implementation of neural networks is basically nothing but matrix multiplication and applying functions on them. Deep learning libraries are made to perform matrix multiplication in the first place; so, each of these frameworks should be equipped with matrix manipulation tools and APIs. Keras is no exception.\n",
        "\n",
        "Perhaps you might think that Keras library has much higher level abstractions which makes significantly easier to work with. So, why do we have to learn low-level APIs? The point is that there are situations that we need low-level APIs. For example:\n",
        "\n",
        "\n",
        "\n",
        "*   Sometimes the layers we want to use are not included in the default Keras implementation thus we have to implement them by ourselves.\n",
        "\n",
        "*   More importantly, other deep learning frameworks such as Tensorflow and Pytorch are more commonly used in low-level mode. Learning such APIs will enable us to better understand the source codes of papers and existing projects available on the Internet.\n",
        "\n",
        "\n",
        "\n",
        "Before starting to code, let's review some of the mathematics behind neural networks. We store connection's weights between layers in the shape of a matrix. Also, we represent layer bais as a matrix too. Here is an example:\n",
        "![alt text](https://github.com/the-real-dezhi/deep-farsi/blob/master/nn_weight.jpg)\n",
        "\n",
        "Suppose we have two layers in a neural network. Let  x∈R(N×1)  be the activations of the previous layer with  N  nodes,  W  be the weight of connections and  B be the bais for the current layer. Write an algebraic equation for the current layer with  M  nodes and activations  h . Also, specify dimensions of matrices  W,B,h :\n",
        "![alt text](https://github.com/the-real-dezhi/deep-farsi/blob/master/2019-07-07_14-18-53.png)\n",
        "\n",
        "Please note that Broadcasting is used to calculate the sum of  WT.x  and  B \n",
        "\n",
        "But, computers, especially GPUs, are much more efficient in parallel computing. So, instead of feeding single input  x→  through our neural network, why not feed them a batch? Thus, the input vector  x→∈RN×1  will be a matrix in the shape of  Rb×N  ( b  is the batch size) and each individual input will be one of  x  rows.\n",
        "\n",
        "Rewritre equation for  h  above and specify the dimensions of matrices  W,B,h \n",
        "\n",
        "![alt text](https://github.com/the-real-dezhi/deep-farsi/blob/master/2019-07-07_14-19-09.png)\n",
        "\n",
        "Please note that Broadcasting is used to calculate the sum of  x.W  and  B"
      ]
    },
    {
      "cell_type": "code",
      "metadata": {
        "id": "m8vKWMhF3WBv",
        "colab_type": "code",
        "colab": {}
      },
      "source": [
        "from keras import backend as K\n",
        "from keras.layers import Layer, Dense, Dropout\n",
        "from keras.models import Sequential\n",
        "from keras.utils.layer_utils import count_params\n",
        "\n",
        "from util import BaseModel"
      ],
      "execution_count": 0,
      "outputs": []
    },
    {
      "cell_type": "markdown",
      "metadata": {
        "id": "4WdAABNH3anZ",
        "colab_type": "text"
      },
      "source": [
        "Here is the model class that we're going to implement. LowLevelMLP is a simple MLP network with a configurable number of hidden layers. To complete this section you need to fill its two methods __init__() and build_model(). We use  __init__ to define networks weights and build_model() to specify operations between input and model weights to create the output.\n"
      ]
    },
    {
      "cell_type": "code",
      "metadata": {
        "id": "eCBx7ghz3b2M",
        "colab_type": "code",
        "colab": {}
      },
      "source": [
        "#model configuration\n",
        "HIDDEN_LAYERS = [512, 128]\n",
        "NUM_CLASSES = 10\n",
        "NUM_EPOCH = 20\n",
        "BATCH_SIZE = 512"
      ],
      "execution_count": 0,
      "outputs": []
    },
    {
      "cell_type": "code",
      "metadata": {
        "id": "eAoQBRXO3qiO",
        "colab_type": "code",
        "outputId": "feeb0e63-2778-4c01-9259-febcd0a04da3",
        "colab": {
          "base_uri": "https://localhost:8080/",
          "height": 230
        }
      },
      "source": [
        "class LowLevelMLP(BaseModel):\n",
        "  \n",
        "  def __init__(self, input_shape, hidden_layers, num_classes=10):\n",
        "    \"\"\"\n",
        "    Initiate model with provided configuration\n",
        "    Args:\n",
        "      input_shape: size of input vector\n",
        "      hidden_layers: a list of integer, specify num hidden layer node from left to right,\n",
        "                     e.x.: [512, 128, ...]\n",
        "      num_classes: an integer defining number of classes, this is the number of model ouput nodes\n",
        "    \"\"\"\n",
        "    super(LowLevelMLP, self).__init__()\n",
        "    \n",
        "    self._input_shape = input_shape\n",
        "    self._hidden_layers = hidden_layers\n",
        "    self._num_classes = num_classes\n",
        "    \n",
        "    # Define model weights & biases according to self.hidden_layers and self.num_classes \n",
        "    # To create weight you can use self.add_weight\n",
        "    \n",
        "    self._model_weights = []\n",
        "    self._model_baiases = []\n",
        "\n",
        "    last_input_size = input_shape\n",
        "    for h in self._hidden_layers + [num_classes]:\n",
        "      self._model_weights.append(self.add_weight(\n",
        "          name='hid_%s' % h, \n",
        "          shape=(last_input_size, h), \n",
        "          initializer='glorot_uniform'\n",
        "      ))\n",
        "      self._model_baiases.append(self.add_weight(\n",
        "          name='bias_%s' % h, \n",
        "          shape=(h, ), \n",
        "          initializer='zeros'\n",
        "      ))\n",
        "\n",
        "      last_input_size = h\n",
        "    \n",
        "    \n",
        "  def build_model(self, x):\n",
        "    \"\"\"\n",
        "    The Model logic sits here.\n",
        "    Args:\n",
        "      x: an input tensor in shape of (?, input_size), ? is batch size and will be determined at the training phase\n",
        "         e.x.: x is tensor with shape (?, 784) for the MNIST dataset\n",
        "\n",
        "    Returns:\n",
        "      pred: an output tensor with shape (?, self.num_classes)\n",
        "\n",
        "    \"\"\"\n",
        "\n",
        "    h = x\n",
        "\n",
        "    for w, b in zip(self._model_weights, self._model_baiases):\n",
        "      h = K.relu(K.dot(h, w) + b)\n",
        "\n",
        "    pred = K.softmax(h)\n",
        "\n",
        "    return pred\n",
        "    \n",
        "\n",
        "ll_mlp = LowLevelMLP(IMAGE_SIZE ** 2, HIDDEN_LAYERS, NUM_CLASSES)\n",
        "ll_mlp._model_weights, ll_mlp._model_baiases"
      ],
      "execution_count": 16,
      "outputs": [
        {
          "output_type": "stream",
          "text": [
            "WARNING: Logging before flag parsing goes to stderr.\n",
            "W0709 10:57:37.885312 139722753296256 deprecation_wrapper.py:119] From /usr/local/lib/python3.6/dist-packages/keras/backend/tensorflow_backend.py:74: The name tf.get_default_graph is deprecated. Please use tf.compat.v1.get_default_graph instead.\n",
            "\n",
            "W0709 10:57:37.929548 139722753296256 deprecation_wrapper.py:119] From /usr/local/lib/python3.6/dist-packages/keras/backend/tensorflow_backend.py:4138: The name tf.random_uniform is deprecated. Please use tf.random.uniform instead.\n",
            "\n"
          ],
          "name": "stderr"
        },
        {
          "output_type": "execute_result",
          "data": {
            "text/plain": [
              "([<tf.Variable 'hid_512:0' shape=(1024, 512) dtype=float32_ref>,\n",
              "  <tf.Variable 'hid_128:0' shape=(512, 128) dtype=float32_ref>,\n",
              "  <tf.Variable 'hid_10:0' shape=(128, 10) dtype=float32_ref>],\n",
              " [<tf.Variable 'bias_512:0' shape=(512,) dtype=float32_ref>,\n",
              "  <tf.Variable 'bias_128:0' shape=(128,) dtype=float32_ref>,\n",
              "  <tf.Variable 'bias_10:0' shape=(10,) dtype=float32_ref>])"
            ]
          },
          "metadata": {
            "tags": []
          },
          "execution_count": 16
        }
      ]
    },
    {
      "cell_type": "code",
      "metadata": {
        "id": "HLUZ7meb36Up",
        "colab_type": "code",
        "colab": {}
      },
      "source": [
        "assert  count_params(ll_mlp.trainable_weights) == sum(\n",
        "    [(i*j) for i, j in zip([IMAGE_SIZE ** 2] + HIDDEN_LAYERS, HIDDEN_LAYERS + [NUM_CLASSES])] \n",
        "    + HIDDEN_LAYERS \n",
        "    + [NUM_CLASSES]\n",
        ")"
      ],
      "execution_count": 0,
      "outputs": []
    },
    {
      "cell_type": "code",
      "metadata": {
        "id": "cGvo6W6g3-7_",
        "colab_type": "code",
        "outputId": "577422fc-bea2-48ef-f849-d2c36c98d7f2",
        "colab": {
          "base_uri": "https://localhost:8080/",
          "height": 52
        }
      },
      "source": [
        "# Before start training the model, we need to reshape the input so that each 32x32 image\n",
        "# becomes a single 1024 dimensional vector.\n",
        "\n",
        "x_train = train_images.reshape((-1, IMAGE_SIZE * IMAGE_SIZE))\n",
        "y_train = train_labels.astype('float32')\n",
        "\n",
        "x_test = test_images.reshape((-1, IMAGE_SIZE * IMAGE_SIZE))\n",
        "y_test = test_labels.astype('float32')\n",
        "\n",
        "print(x_train.shape, x_test.shape)\n",
        "print(y_train.shape, y_test.shape)"
      ],
      "execution_count": 18,
      "outputs": [
        {
          "output_type": "stream",
          "text": [
            "(60000, 1024) (20000, 1024)\n",
            "(60000, 10) (20000, 10)\n"
          ],
          "name": "stdout"
        }
      ]
    },
    {
      "cell_type": "code",
      "metadata": {
        "id": "TpQGGDhq4B9i",
        "colab_type": "code",
        "outputId": "d57e8015-fb81-486b-82da-c03257f6a8d0",
        "colab": {
          "base_uri": "https://localhost:8080/",
          "height": 952
        }
      },
      "source": [
        "ll_mlp.compile(optimizer='rmsprop', loss='categorical_crossentropy', metrics=['accuracy'])\n",
        "ll_mlp_history = ll_mlp.fit(x_train, y_train, epochs=NUM_EPOCH, batch_size=BATCH_SIZE, validation_data=(x_test, y_test))"
      ],
      "execution_count": 19,
      "outputs": [
        {
          "output_type": "stream",
          "text": [
            "W0709 10:57:53.325959 139722753296256 deprecation_wrapper.py:119] From /usr/local/lib/python3.6/dist-packages/keras/optimizers.py:790: The name tf.train.Optimizer is deprecated. Please use tf.compat.v1.train.Optimizer instead.\n",
            "\n",
            "W0709 10:57:53.348604 139722753296256 deprecation_wrapper.py:119] From /usr/local/lib/python3.6/dist-packages/keras/backend/tensorflow_backend.py:517: The name tf.placeholder is deprecated. Please use tf.compat.v1.placeholder instead.\n",
            "\n",
            "W0709 10:57:53.376640 139722753296256 deprecation_wrapper.py:119] From /usr/local/lib/python3.6/dist-packages/keras/backend/tensorflow_backend.py:3295: The name tf.log is deprecated. Please use tf.math.log instead.\n",
            "\n",
            "W0709 10:57:53.487106 139722753296256 deprecation.py:323] From /usr/local/lib/python3.6/dist-packages/tensorflow/python/ops/math_grad.py:1250: add_dispatch_support.<locals>.wrapper (from tensorflow.python.ops.array_ops) is deprecated and will be removed in a future version.\n",
            "Instructions for updating:\n",
            "Use tf.where in 2.0, which has the same broadcast rule as np.where\n",
            "W0709 10:57:53.567384 139722753296256 deprecation_wrapper.py:119] From /usr/local/lib/python3.6/dist-packages/keras/backend/tensorflow_backend.py:986: The name tf.assign_add is deprecated. Please use tf.compat.v1.assign_add instead.\n",
            "\n"
          ],
          "name": "stderr"
        },
        {
          "output_type": "stream",
          "text": [
            "Train on 60000 samples, validate on 20000 samples\n",
            "Epoch 1/20\n",
            "60000/60000 [==============================] - 5s 75us/step - loss: 0.4632 - acc: 0.8344 - val_loss: 0.4223 - val_acc: 0.8433\n",
            "Epoch 2/20\n",
            "60000/60000 [==============================] - 1s 12us/step - loss: 0.2907 - acc: 0.8829 - val_loss: 0.3244 - val_acc: 0.8720\n",
            "Epoch 3/20\n",
            "60000/60000 [==============================] - 1s 11us/step - loss: 0.2663 - acc: 0.8897 - val_loss: 0.3079 - val_acc: 0.8785\n",
            "Epoch 4/20\n",
            "60000/60000 [==============================] - 1s 10us/step - loss: 0.2532 - acc: 0.8933 - val_loss: 0.3055 - val_acc: 0.8797\n",
            "Epoch 5/20\n",
            "60000/60000 [==============================] - 1s 10us/step - loss: 0.2457 - acc: 0.8956 - val_loss: 0.2943 - val_acc: 0.8840\n",
            "Epoch 6/20\n",
            "60000/60000 [==============================] - 1s 10us/step - loss: 0.2420 - acc: 0.8966 - val_loss: 0.3020 - val_acc: 0.8820\n",
            "Epoch 7/20\n",
            "60000/60000 [==============================] - 1s 10us/step - loss: 0.2381 - acc: 0.8975 - val_loss: 0.3036 - val_acc: 0.8847\n",
            "Epoch 8/20\n",
            "60000/60000 [==============================] - 1s 10us/step - loss: 0.2368 - acc: 0.8982 - val_loss: 0.3060 - val_acc: 0.8834\n",
            "Epoch 9/20\n",
            "60000/60000 [==============================] - 1s 10us/step - loss: 0.2347 - acc: 0.8988 - val_loss: 0.3148 - val_acc: 0.8827\n",
            "Epoch 10/20\n",
            "60000/60000 [==============================] - 1s 10us/step - loss: 0.2344 - acc: 0.8987 - val_loss: 0.3067 - val_acc: 0.8847\n",
            "Epoch 11/20\n",
            "60000/60000 [==============================] - 1s 10us/step - loss: 0.2335 - acc: 0.8990 - val_loss: 0.3154 - val_acc: 0.8831\n",
            "Epoch 12/20\n",
            "60000/60000 [==============================] - 1s 10us/step - loss: 0.2327 - acc: 0.8993 - val_loss: 0.3216 - val_acc: 0.8832\n",
            "Epoch 13/20\n",
            "60000/60000 [==============================] - 1s 10us/step - loss: 0.2323 - acc: 0.8994 - val_loss: 0.3289 - val_acc: 0.8813\n",
            "Epoch 14/20\n",
            "60000/60000 [==============================] - 1s 10us/step - loss: 0.2321 - acc: 0.8996 - val_loss: 0.3530 - val_acc: 0.8796\n",
            "Epoch 15/20\n",
            "60000/60000 [==============================] - 1s 10us/step - loss: 0.2326 - acc: 0.8992 - val_loss: 0.3244 - val_acc: 0.8838\n",
            "Epoch 16/20\n",
            "60000/60000 [==============================] - 1s 10us/step - loss: 0.2319 - acc: 0.8995 - val_loss: 0.3325 - val_acc: 0.8840\n",
            "Epoch 17/20\n",
            "60000/60000 [==============================] - 1s 10us/step - loss: 0.2317 - acc: 0.8996 - val_loss: 0.3285 - val_acc: 0.8852\n",
            "Epoch 18/20\n",
            "60000/60000 [==============================] - 1s 10us/step - loss: 0.2320 - acc: 0.8994 - val_loss: 0.3425 - val_acc: 0.8818\n",
            "Epoch 19/20\n",
            "60000/60000 [==============================] - 1s 10us/step - loss: 0.2313 - acc: 0.8996 - val_loss: 0.3468 - val_acc: 0.8834\n",
            "Epoch 20/20\n",
            "60000/60000 [==============================] - 1s 10us/step - loss: 0.2315 - acc: 0.8995 - val_loss: 0.3729 - val_acc: 0.8819\n"
          ],
          "name": "stdout"
        }
      ]
    },
    {
      "cell_type": "markdown",
      "metadata": {
        "id": "TGU10WWY4Gg-",
        "colab_type": "text"
      },
      "source": [
        "Now visualize the traning:\n",
        "\n"
      ]
    },
    {
      "cell_type": "code",
      "metadata": {
        "id": "jzGjx3RB4ECc",
        "colab_type": "code",
        "colab": {}
      },
      "source": [
        "def visualize_loss_and_acc(history):\n",
        "  history_dict = history.history\n",
        "  loss_values = history_dict['loss']\n",
        "  val_loss_values = history_dict['val_loss']\n",
        "  acc = history_dict['acc']\n",
        "\n",
        "  epochs = range(1, len(acc) + 1)\n",
        "\n",
        "  f = plt.figure(figsize=(10,3))\n",
        "\n",
        "  plt.subplot(1,2,1)\n",
        "  plt.plot(epochs, loss_values, 'bo', label='Training loss')\n",
        "  plt.plot(epochs, val_loss_values, 'b', label='Validation loss')\n",
        "  plt.title('Training and validation loss')\n",
        "  plt.xlabel('Epochs')\n",
        "  plt.ylabel('Loss')\n",
        "  plt.legend()\n",
        "\n",
        "\n",
        "  acc_values = history_dict['acc']\n",
        "  val_acc = history_dict['val_acc']\n",
        "\n",
        "  plt.subplot(1,2,2)\n",
        "  plt.plot(epochs, acc, 'bo', label='Training acc')\n",
        "  plt.plot(epochs, val_acc, 'b', label='Validation acc')\n",
        "  plt.title('Training and validation accuracy')\n",
        "  plt.xlabel('Epochs')\n",
        "  plt.ylabel('Loss')\n",
        "  plt.legend()\n",
        "\n",
        "  plt.show()"
      ],
      "execution_count": 0,
      "outputs": []
    },
    {
      "cell_type": "code",
      "metadata": {
        "id": "mmXCgmgC4J7D",
        "colab_type": "code",
        "outputId": "3ddb7906-b70a-42e9-e2ed-fa73f55c0a0d",
        "colab": {
          "base_uri": "https://localhost:8080/",
          "height": 241
        }
      },
      "source": [
        "visualize_loss_and_acc(ll_mlp_history)\n"
      ],
      "execution_count": 21,
      "outputs": [
        {
          "output_type": "display_data",
          "data": {
            "image/png": "[encoded data removed]",
            "text/plain": [
              "<Figure size 720x216 with 2 Axes>"
            ]
          },
          "metadata": {
            "tags": []
          }
        }
      ]
    },
    {
      "cell_type": "code",
      "metadata": {
        "id": "jTOzpB9v4OMc",
        "colab_type": "code",
        "colab": {}
      },
      "source": [
        "#save weights of our network\n",
        "ll_mlp.save_weights('ll_mlp.h5')"
      ],
      "execution_count": 0,
      "outputs": []
    },
    {
      "cell_type": "markdown",
      "metadata": {
        "id": "djmEVxjd485x",
        "colab_type": "text"
      },
      "source": [
        "## **2.2 Custom Layer: Softmax**\n",
        "In this section, we're going to implement A custom Keras layer, A much realistic situation. For the sake of simplicity, we want to re-implement Softmax Layer. Before going through softmax implementation, let's review some of softmax details:\n",
        "\n",
        "Softmax has an interesting property that is quite useful in practice, Softmax is invariant to constant offsets in the input, that is, for any input vector  x  and any constant  c \n",
        "\n",
        "softmax(x)=softmax(x+c)\n",
        "\n",
        "where  x+c  means adding the constant c to every dimension of  x . we had that:\n",
        "\n",
        "softmax(x)[i]=ex[i]/∑[(j)] ex[j]\n",
        "\n",
        "In practice, we make use of this property and choose  c=−max[i] x[i]  when computing softmax probabilities for numerical stability (i.e., subtracting its maximum element from all elements of  x )."
      ]
    },
    {
      "cell_type": "code",
      "metadata": {
        "id": "2icszhVr4U5k",
        "colab_type": "code",
        "colab": {}
      },
      "source": [
        "class Softmax2D(Layer):\n",
        "  \"\"\"\n",
        "  Softmax activation function, Only works for 2d arrays.\n",
        "  \"\"\"\n",
        "\n",
        "  def __init__(self, **kwargs):\n",
        "    super(Softmax2D, self).__init__(**kwargs)\n",
        "    # We don't have any configuration for this custom layer,\n",
        "    # But in future you should save any configuration related \n",
        "    # to your layer in its constructor\n",
        "    \n",
        "  def compute_output_shape(self, input_shape):\n",
        "    \"\"\"Computes the output shape of the layer.\n",
        "\n",
        "    Assumes that the layer will be built\n",
        "    to match that input shape provided.\n",
        "\n",
        "    Args:\n",
        "      input_shape: Shape tuple (tuple of integers)\n",
        "        or list of shape tuples (one per output tensor of the layer).\n",
        "        Shape tuples can include None for free dimensions,\n",
        "        instead of an integer.\n",
        "\n",
        "    Returns:\n",
        "      An input shape tuple.\n",
        "    \"\"\"\n",
        "    # softmax of course doesn't change input shape, \n",
        "    # so we can simply return input_shape as output shape\n",
        "    return input_shape \n",
        "  \n",
        "  def build(self, input_shape):\n",
        "    \"\"\"\n",
        "    This is where you will define your weights. \n",
        "    This method must set self.built = True at the end, \n",
        "    which can be done by calling super(Softmax2D, self).build().\n",
        "    \n",
        "    Args:\n",
        "      input_shape: Keras tensor (future input to layer)\n",
        "        or list/tuple of Keras tensors to reference\n",
        "        for weight shape computations.\n",
        "    \"\"\"\n",
        "    # As softmax is simple activation layer, we don't need any weight  \n",
        "    # definitions for this layer.\n",
        "    super(Softmax2D, self).build(input_shape)\n",
        "    \n",
        "  def call(self, x):\n",
        "    \"\"\"\n",
        "    This is where the layer's logic lives.\n",
        "    \n",
        "    Args:\n",
        "      x: Input tensor, or list/tuple of input tensors.\n",
        "      \n",
        "    Returns:\n",
        "      A tensor.\n",
        "    \"\"\"\n",
        "    orig_shape = x.shape\n",
        "    \n",
        "    x = x - K.max(x, axis=1, keepdims=True)\n",
        "    x = K.exp(x)\n",
        "    sum_vec = K.sum(x, axis=1, keepdims=True)\n",
        "    x = x / sum_vec\n",
        "    \n",
        "    assert x.shape[1] == orig_shape[1] and len(x.shape) == len(orig_shape)\n",
        "    return x"
      ],
      "execution_count": 0,
      "outputs": []
    },
    {
      "cell_type": "code",
      "metadata": {
        "id": "bq_SkOel6I7N",
        "colab_type": "code",
        "outputId": "911add52-afbf-4520-e00f-543f8a9eef6f",
        "colab": {
          "base_uri": "https://localhost:8080/",
          "height": 69
        }
      },
      "source": [
        "x = K.constant(np.array([[1001, 1002], [3, 4]]))\n",
        "test2 = K.eval(Softmax2D()(x))\n",
        "print(test2)\n",
        "ans2 = np.array([\n",
        "  [0.26894142, 0.73105858],\n",
        "  [0.26894142, 0.73105858]])\n",
        "assert np.allclose(test2, ans2, rtol=1e-05, atol=1e-06)\n",
        "print(\"Passed!\")"
      ],
      "execution_count": 24,
      "outputs": [
        {
          "output_type": "stream",
          "text": [
            "[[0.26894143 0.7310586 ]\n",
            " [0.26894143 0.7310586 ]]\n",
            "Passed!\n"
          ],
          "name": "stdout"
        }
      ]
    },
    {
      "cell_type": "markdown",
      "metadata": {
        "id": "-2F5vyQg6OyI",
        "colab_type": "text"
      },
      "source": [
        "How to use our custom layer in practice?\n",
        "\n"
      ]
    },
    {
      "cell_type": "code",
      "metadata": {
        "id": "MyT_0Zqs6L_N",
        "colab_type": "code",
        "outputId": "e53b978a-c4b5-48d1-bf0b-e1f5c6ddbe68",
        "colab": {
          "base_uri": "https://localhost:8080/",
          "height": 738
        }
      },
      "source": [
        "# Create simple MLP network similar to what you implmented in previous section\n",
        "s2d_mlp = Sequential()\n",
        "s2d_mlp.add(Dense(512, activation='relu'))\n",
        "s2d_mlp.add(Dense(128, activation='relu'))\n",
        "s2d_mlp.add(Dense(NUM_CLASSES, activation=None))\n",
        "s2d_mlp.add(Softmax2D()) # This is your custom layer, \n",
        "\n",
        "# compile & train model\n",
        "s2d_mlp.compile(optimizer='rmsprop', loss='categorical_crossentropy', metrics=['accuracy'])\n",
        "s2d_history = s2d_mlp.fit(\n",
        "    x_train, y_train, \n",
        "    epochs=NUM_EPOCH, \n",
        "    batch_size=BATCH_SIZE, \n",
        "    validation_data=(x_test, y_test)\n",
        ")"
      ],
      "execution_count": 25,
      "outputs": [
        {
          "output_type": "stream",
          "text": [
            "Train on 60000 samples, validate on 20000 samples\n",
            "Epoch 1/20\n",
            "60000/60000 [==============================] - 1s 15us/step - loss: 0.2118 - acc: 0.9370 - val_loss: 0.1821 - val_acc: 0.9453\n",
            "Epoch 2/20\n",
            "60000/60000 [==============================] - 1s 11us/step - loss: 0.0598 - acc: 0.9825 - val_loss: 0.0968 - val_acc: 0.9704\n",
            "Epoch 3/20\n",
            "60000/60000 [==============================] - 1s 11us/step - loss: 0.0349 - acc: 0.9902 - val_loss: 0.0802 - val_acc: 0.9755\n",
            "Epoch 4/20\n",
            "60000/60000 [==============================] - 1s 11us/step - loss: 0.0219 - acc: 0.9931 - val_loss: 0.0808 - val_acc: 0.9769\n",
            "Epoch 5/20\n",
            "60000/60000 [==============================] - 1s 11us/step - loss: 0.0146 - acc: 0.9953 - val_loss: 0.0780 - val_acc: 0.9789\n",
            "Epoch 6/20\n",
            "60000/60000 [==============================] - 1s 11us/step - loss: 0.0101 - acc: 0.9967 - val_loss: 0.0782 - val_acc: 0.9797\n",
            "Epoch 7/20\n",
            "60000/60000 [==============================] - 1s 11us/step - loss: 0.0069 - acc: 0.9979 - val_loss: 0.0839 - val_acc: 0.9797\n",
            "Epoch 8/20\n",
            "60000/60000 [==============================] - 1s 11us/step - loss: 0.0052 - acc: 0.9983 - val_loss: 0.0784 - val_acc: 0.9820\n",
            "Epoch 9/20\n",
            "60000/60000 [==============================] - 1s 11us/step - loss: 0.0036 - acc: 0.9990 - val_loss: 0.0974 - val_acc: 0.9784\n",
            "Epoch 10/20\n",
            "60000/60000 [==============================] - 1s 11us/step - loss: 0.0034 - acc: 0.9990 - val_loss: 0.1184 - val_acc: 0.9768\n",
            "Epoch 11/20\n",
            "60000/60000 [==============================] - 1s 11us/step - loss: 0.0018 - acc: 0.9994 - val_loss: 0.1068 - val_acc: 0.9806\n",
            "Epoch 12/20\n",
            "60000/60000 [==============================] - 1s 11us/step - loss: 0.0015 - acc: 0.9995 - val_loss: 0.1062 - val_acc: 0.9802\n",
            "Epoch 13/20\n",
            "60000/60000 [==============================] - 1s 11us/step - loss: 0.0014 - acc: 0.9996 - val_loss: 0.1012 - val_acc: 0.9824\n",
            "Epoch 14/20\n",
            "60000/60000 [==============================] - 1s 11us/step - loss: 0.0012 - acc: 0.9996 - val_loss: 0.1069 - val_acc: 0.9818\n",
            "Epoch 15/20\n",
            "60000/60000 [==============================] - 1s 11us/step - loss: 9.5947e-04 - acc: 0.9997 - val_loss: 0.1078 - val_acc: 0.9823\n",
            "Epoch 16/20\n",
            "60000/60000 [==============================] - 1s 11us/step - loss: 0.0010 - acc: 0.9997 - val_loss: 0.1172 - val_acc: 0.9821\n",
            "Epoch 17/20\n",
            "60000/60000 [==============================] - 1s 11us/step - loss: 6.8054e-04 - acc: 0.9998 - val_loss: 0.1140 - val_acc: 0.9823\n",
            "Epoch 18/20\n",
            "60000/60000 [==============================] - 1s 11us/step - loss: 0.0018 - acc: 0.9995 - val_loss: 0.1217 - val_acc: 0.9825\n",
            "Epoch 19/20\n",
            "60000/60000 [==============================] - 1s 11us/step - loss: 8.3656e-04 - acc: 0.9997 - val_loss: 0.1257 - val_acc: 0.9820\n",
            "Epoch 20/20\n",
            "60000/60000 [==============================] - 1s 11us/step - loss: 5.5530e-04 - acc: 0.9999 - val_loss: 0.1209 - val_acc: 0.9819\n"
          ],
          "name": "stdout"
        }
      ]
    },
    {
      "cell_type": "code",
      "metadata": {
        "id": "RsPWWNvV6RYV",
        "colab_type": "code",
        "outputId": "e01548a6-925d-4c77-d0d6-d83e194498de",
        "colab": {
          "base_uri": "https://localhost:8080/",
          "height": 241
        }
      },
      "source": [
        "visualize_loss_and_acc(s2d_history)\n"
      ],
      "execution_count": 26,
      "outputs": [
        {
          "output_type": "display_data",
          "data": {
            "image/png": "[encoded data removed]",
            "text/plain": [
              "<Figure size 720x216 with 2 Axes>"
            ]
          },
          "metadata": {
            "tags": []
          }
        }
      ]
    },
    {
      "cell_type": "code",
      "metadata": {
        "id": "lgdnl9g96V84",
        "colab_type": "code",
        "colab": {}
      },
      "source": [
        "s2d_mlp.save(str('s2d_mlp.h5'))\n"
      ],
      "execution_count": 0,
      "outputs": []
    },
    {
      "cell_type": "markdown",
      "metadata": {
        "id": "ZKbTP0_F6hjO",
        "colab_type": "text"
      },
      "source": [
        "# **3 Dropout**\n",
        "As you see, the validation error of the model starts to grow around epoch 5. But, our network is being optimized on the training loss during this time and its error is continuously reduced if the training dataset is not big enough (which is the case here). The model has mastered the task on the training set, but the learned network doesn't generalize to new examples that it has never seen!\n",
        "\n",
        "Dropout is one of the most common regularization techniques used to prevent overfitting. It randomly shuts down some neurons in each iteration.\n",
        "\n",
        "The reasons that why Dropout helps model generalization (not overfitting) is :\n",
        "\n",
        "\n",
        "1.   Not all connections between neurons are really necessary! by using dropout we zero down some of them (in each iteration), forcing our model to learn data with less number of connections (or neurons) leading to a simpler model with higher generalization power.\n",
        "2.   On the other hand, changing dropped neurons in each iteration makes our models an implicit ensemble of simpler neural networks, each learned the data in a different way. so we have many simple and diverse models which is expected to be better in generalization\n",
        "3.   Also we can interpret dropout as adding noise in output layer of each layer. this can break up insignificant patterns that occur in each layer, which our network would tend to memorize in training without dropout.\n",
        "\n",
        "[Thanks to my friend Mohsen Tabassy for explaining these reasons]\n",
        "\n"
      ]
    },
    {
      "cell_type": "code",
      "metadata": {
        "id": "HqJ5aINQ6cx1",
        "colab_type": "code",
        "outputId": "4d6cb8e9-fb1b-4c84-f6f4-f7439210a422",
        "colab": {
          "base_uri": "https://localhost:8080/",
          "height": 773
        }
      },
      "source": [
        "ss_mlp = Sequential()\n",
        "ss_mlp.add(Dense(16, activation='relu', input_shape=(1024,)))\n",
        "ss_mlp.add(Dense(16, activation='relu'))\n",
        "ss_mlp.add(Dense(10, activation='sigmoid'))\n",
        "\n",
        "ss_mlp.compile(optimizer='rmsprop', \n",
        "              loss='binary_crossentropy', \n",
        "              metrics=['acc'])\n",
        "\n",
        "ss_mlp_history = ss_mlp.fit(x_train, \n",
        "                                y_train, \n",
        "                                epochs=20, \n",
        "                                batch_size=512,\n",
        "                            validation_data=(x_test, y_test))\n",
        "\n",
        "print(\"Accuracy on Test set is:\", ss_mlp.evaluate(x_test, y_test)[1])"
      ],
      "execution_count": 28,
      "outputs": [
        {
          "output_type": "stream",
          "text": [
            "Train on 60000 samples, validate on 20000 samples\n",
            "Epoch 1/20\n",
            "60000/60000 [==============================] - 1s 14us/step - loss: 0.2166 - acc: 0.9246 - val_loss: 0.1301 - val_acc: 0.9572\n",
            "Epoch 2/20\n",
            "60000/60000 [==============================] - 1s 10us/step - loss: 0.0658 - acc: 0.9808 - val_loss: 0.0819 - val_acc: 0.9723\n",
            "Epoch 3/20\n",
            "60000/60000 [==============================] - 1s 10us/step - loss: 0.0432 - acc: 0.9872 - val_loss: 0.0678 - val_acc: 0.9777\n",
            "Epoch 4/20\n",
            "60000/60000 [==============================] - 1s 10us/step - loss: 0.0351 - acc: 0.9898 - val_loss: 0.0557 - val_acc: 0.9825\n",
            "Epoch 5/20\n",
            "60000/60000 [==============================] - 1s 9us/step - loss: 0.0302 - acc: 0.9913 - val_loss: 0.0521 - val_acc: 0.9838\n",
            "Epoch 6/20\n",
            "60000/60000 [==============================] - 1s 10us/step - loss: 0.0267 - acc: 0.9924 - val_loss: 0.0476 - val_acc: 0.9853\n",
            "Epoch 7/20\n",
            "60000/60000 [==============================] - 1s 9us/step - loss: 0.0241 - acc: 0.9931 - val_loss: 0.0449 - val_acc: 0.9864\n",
            "Epoch 8/20\n",
            "60000/60000 [==============================] - 1s 9us/step - loss: 0.0222 - acc: 0.9937 - val_loss: 0.0428 - val_acc: 0.9870\n",
            "Epoch 9/20\n",
            "60000/60000 [==============================] - 1s 10us/step - loss: 0.0207 - acc: 0.9941 - val_loss: 0.0405 - val_acc: 0.9878\n",
            "Epoch 10/20\n",
            "60000/60000 [==============================] - 1s 9us/step - loss: 0.0194 - acc: 0.9944 - val_loss: 0.0404 - val_acc: 0.9876\n",
            "Epoch 11/20\n",
            "60000/60000 [==============================] - 1s 10us/step - loss: 0.0185 - acc: 0.9948 - val_loss: 0.0389 - val_acc: 0.9883\n",
            "Epoch 12/20\n",
            "60000/60000 [==============================] - 1s 9us/step - loss: 0.0174 - acc: 0.9950 - val_loss: 0.0386 - val_acc: 0.9885\n",
            "Epoch 13/20\n",
            "60000/60000 [==============================] - 1s 10us/step - loss: 0.0167 - acc: 0.9952 - val_loss: 0.0378 - val_acc: 0.9887\n",
            "Epoch 14/20\n",
            "60000/60000 [==============================] - 1s 9us/step - loss: 0.0160 - acc: 0.9954 - val_loss: 0.0372 - val_acc: 0.9889\n",
            "Epoch 15/20\n",
            "60000/60000 [==============================] - 1s 10us/step - loss: 0.0154 - acc: 0.9956 - val_loss: 0.0362 - val_acc: 0.9891\n",
            "Epoch 16/20\n",
            "60000/60000 [==============================] - 1s 9us/step - loss: 0.0148 - acc: 0.9957 - val_loss: 0.0361 - val_acc: 0.9892\n",
            "Epoch 17/20\n",
            "60000/60000 [==============================] - 1s 10us/step - loss: 0.0143 - acc: 0.9959 - val_loss: 0.0371 - val_acc: 0.9890\n",
            "Epoch 18/20\n",
            "60000/60000 [==============================] - 1s 10us/step - loss: 0.0139 - acc: 0.9960 - val_loss: 0.0351 - val_acc: 0.9896\n",
            "Epoch 19/20\n",
            "60000/60000 [==============================] - 1s 10us/step - loss: 0.0134 - acc: 0.9961 - val_loss: 0.0353 - val_acc: 0.9894\n",
            "Epoch 20/20\n",
            "60000/60000 [==============================] - 1s 10us/step - loss: 0.0130 - acc: 0.9963 - val_loss: 0.0348 - val_acc: 0.9897\n",
            "20000/20000 [==============================] - 1s 36us/step\n",
            "Accuracy on Test set is: 0.9896799995422363\n"
          ],
          "name": "stdout"
        }
      ]
    },
    {
      "cell_type": "code",
      "metadata": {
        "id": "BHV7WQBk8ZOZ",
        "colab_type": "code",
        "outputId": "f26f5089-ab58-49b6-8015-54d739441ac1",
        "colab": {
          "base_uri": "https://localhost:8080/",
          "height": 241
        }
      },
      "source": [
        "visualize_loss_and_acc(ss_mlp_history)\n"
      ],
      "execution_count": 29,
      "outputs": [
        {
          "output_type": "display_data",
          "data": {
            "image/png": "[encoded data removed]",
            "text/plain": [
              "<Figure size 720x216 with 2 Axes>"
            ]
          },
          "metadata": {
            "tags": []
          }
        }
      ]
    },
    {
      "cell_type": "markdown",
      "metadata": {
        "id": "4u6BnbyZ9SqL",
        "colab_type": "text"
      },
      "source": [
        "As you can see, The model is overfitting quite fast! In this section you have to change the model, its prameters, and maybe add new layers to improve overfitting!"
      ]
    },
    {
      "cell_type": "code",
      "metadata": {
        "id": "jGPq_ByK8rE8",
        "colab_type": "code",
        "outputId": "ca68ccc2-c34d-435c-fb82-71748441a362",
        "colab": {
          "base_uri": "https://localhost:8080/",
          "height": 846
        }
      },
      "source": [
        "ss_imprv = Sequential()\n",
        "\n",
        "ss_imprv.add(Dense(16, activation='relu'))\n",
        "ss_imprv.add(Dropout(0.5))                         # hidden layer dropout\n",
        "ss_imprv.add(Dense(16, activation='relu'))         \n",
        "ss_imprv.add(Dropout(0.5))                         # hidden layer dropout\n",
        "ss_imprv.add(Dense(10, activation='sigmoid'))\n",
        "\n",
        "ss_imprv.compile(optimizer='rmsprop', \n",
        "              loss='binary_crossentropy', \n",
        "              metrics=['acc'])\n",
        "\n",
        "ss_imprv_history = ss_imprv.fit(x_train, \n",
        "                                y_train, \n",
        "                                epochs=20, \n",
        "                                batch_size=512, \n",
        "                                validation_data=(x_test, y_test))\n",
        "\n",
        "print(\"Accuracy on Test set is:\", ss_imprv.evaluate(x_test, y_test)[1])"
      ],
      "execution_count": 30,
      "outputs": [
        {
          "output_type": "stream",
          "text": [
            "W0709 11:01:36.576366 139722753296256 deprecation.py:506] From /usr/local/lib/python3.6/dist-packages/keras/backend/tensorflow_backend.py:3445: calling dropout (from tensorflow.python.ops.nn_ops) with keep_prob is deprecated and will be removed in a future version.\n",
            "Instructions for updating:\n",
            "Please use `rate` instead of `keep_prob`. Rate should be set to `rate = 1 - keep_prob`.\n"
          ],
          "name": "stderr"
        },
        {
          "output_type": "stream",
          "text": [
            "Train on 60000 samples, validate on 20000 samples\n",
            "Epoch 1/20\n",
            "60000/60000 [==============================] - 1s 16us/step - loss: 0.5281 - acc: 0.7412 - val_loss: 0.3146 - val_acc: 0.9165\n",
            "Epoch 2/20\n",
            "60000/60000 [==============================] - 1s 10us/step - loss: 0.3564 - acc: 0.8703 - val_loss: 0.2174 - val_acc: 0.9186\n",
            "Epoch 3/20\n",
            "60000/60000 [==============================] - 1s 10us/step - loss: 0.2844 - acc: 0.8995 - val_loss: 0.1688 - val_acc: 0.9300\n",
            "Epoch 4/20\n",
            "60000/60000 [==============================] - 1s 10us/step - loss: 0.2468 - acc: 0.9103 - val_loss: 0.1432 - val_acc: 0.9367\n",
            "Epoch 5/20\n",
            "60000/60000 [==============================] - 1s 10us/step - loss: 0.2244 - acc: 0.9156 - val_loss: 0.1310 - val_acc: 0.9436\n",
            "Epoch 6/20\n",
            "60000/60000 [==============================] - 1s 10us/step - loss: 0.2110 - acc: 0.9189 - val_loss: 0.1230 - val_acc: 0.9462\n",
            "Epoch 7/20\n",
            "60000/60000 [==============================] - 1s 10us/step - loss: 0.2023 - acc: 0.9215 - val_loss: 0.1188 - val_acc: 0.9481\n",
            "Epoch 8/20\n",
            "60000/60000 [==============================] - 1s 10us/step - loss: 0.1967 - acc: 0.9235 - val_loss: 0.1177 - val_acc: 0.9480\n",
            "Epoch 9/20\n",
            "60000/60000 [==============================] - 1s 10us/step - loss: 0.1918 - acc: 0.9252 - val_loss: 0.1138 - val_acc: 0.9491\n",
            "Epoch 10/20\n",
            "60000/60000 [==============================] - 1s 10us/step - loss: 0.1893 - acc: 0.9261 - val_loss: 0.1125 - val_acc: 0.9479\n",
            "Epoch 11/20\n",
            "60000/60000 [==============================] - 1s 10us/step - loss: 0.1867 - acc: 0.9270 - val_loss: 0.1105 - val_acc: 0.9495\n",
            "Epoch 12/20\n",
            "60000/60000 [==============================] - 1s 10us/step - loss: 0.1847 - acc: 0.9282 - val_loss: 0.1119 - val_acc: 0.9470\n",
            "Epoch 13/20\n",
            "60000/60000 [==============================] - 1s 10us/step - loss: 0.1840 - acc: 0.9277 - val_loss: 0.1088 - val_acc: 0.9468\n",
            "Epoch 14/20\n",
            "60000/60000 [==============================] - 1s 10us/step - loss: 0.1837 - acc: 0.9287 - val_loss: 0.1097 - val_acc: 0.9457\n",
            "Epoch 15/20\n",
            "60000/60000 [==============================] - 1s 10us/step - loss: 0.1826 - acc: 0.9288 - val_loss: 0.1109 - val_acc: 0.9466\n",
            "Epoch 16/20\n",
            "60000/60000 [==============================] - 1s 10us/step - loss: 0.1812 - acc: 0.9294 - val_loss: 0.1104 - val_acc: 0.9460\n",
            "Epoch 17/20\n",
            "60000/60000 [==============================] - 1s 10us/step - loss: 0.1797 - acc: 0.9299 - val_loss: 0.1103 - val_acc: 0.9455\n",
            "Epoch 18/20\n",
            "60000/60000 [==============================] - 1s 10us/step - loss: 0.1797 - acc: 0.9297 - val_loss: 0.1059 - val_acc: 0.9484\n",
            "Epoch 19/20\n",
            "60000/60000 [==============================] - 1s 10us/step - loss: 0.1790 - acc: 0.9300 - val_loss: 0.1071 - val_acc: 0.9474\n",
            "Epoch 20/20\n",
            "60000/60000 [==============================] - 1s 10us/step - loss: 0.1786 - acc: 0.9301 - val_loss: 0.1090 - val_acc: 0.9456\n",
            "20000/20000 [==============================] - 1s 39us/step\n",
            "Accuracy on Test set is: 0.9455999894142151\n"
          ],
          "name": "stdout"
        }
      ]
    },
    {
      "cell_type": "markdown",
      "metadata": {
        "id": "Xrgkqrqq9zQ_",
        "colab_type": "text"
      },
      "source": [
        "Improves model:"
      ]
    },
    {
      "cell_type": "code",
      "metadata": {
        "id": "dBoks9Vs9ltP",
        "colab_type": "code",
        "outputId": "2fd7abbf-f9a9-45b1-a78f-d38eaf5cb242",
        "colab": {
          "base_uri": "https://localhost:8080/",
          "height": 241
        }
      },
      "source": [
        "visualize_loss_and_acc(ss_imprv_history)"
      ],
      "execution_count": 31,
      "outputs": [
        {
          "output_type": "display_data",
          "data": {
            "image/png": "[encoded data removed]",
            "text/plain": [
              "<Figure size 720x216 with 2 Axes>"
            ]
          },
          "metadata": {
            "tags": []
          }
        }
      ]
    },
    {
      "cell_type": "markdown",
      "metadata": {
        "id": "RpHaMulx9xZD",
        "colab_type": "text"
      },
      "source": [
        "Base model:"
      ]
    },
    {
      "cell_type": "code",
      "metadata": {
        "id": "YdAufY-v9uhE",
        "colab_type": "code",
        "outputId": "c1071e33-af59-41bc-beee-29f530ae990e",
        "colab": {
          "base_uri": "https://localhost:8080/",
          "height": 241
        }
      },
      "source": [
        "visualize_loss_and_acc(ss_mlp_history)\n"
      ],
      "execution_count": 32,
      "outputs": [
        {
          "output_type": "display_data",
          "data": {
            "image/png": "[encoded data removed]",
            "text/plain": [
              "<Figure size 720x216 with 2 Axes>"
            ]
          },
          "metadata": {
            "tags": []
          }
        }
      ]
    },
    {
      "cell_type": "code",
      "metadata": {
        "id": "mjjX1H4t94h7",
        "colab_type": "code",
        "colab": {}
      },
      "source": [
        "ss_imprv.save(str('imdb_imprv.h5'))"
      ],
      "execution_count": 0,
      "outputs": []
    },
    {
      "cell_type": "markdown",
      "metadata": {
        "id": "s6r0jtjhUflo",
        "colab_type": "text"
      },
      "source": [
        "# **batch normalization**"
      ]
    },
    {
      "cell_type": "code",
      "metadata": {
        "id": "Qb_OMDlY-Dur",
        "colab_type": "code",
        "colab": {}
      },
      "source": [
        "import keras\n",
        "from keras import backend as K\n",
        "from keras.models import Sequential\n",
        "from keras.layers import Layer, Dense, Activation, Dropout, Flatten\n",
        "from keras.layers import Conv2D, MaxPooling2D\n",
        "from keras.layers.normalization import BatchNormalization\n",
        "from keras.utils import to_categorical"
      ],
      "execution_count": 0,
      "outputs": []
    },
    {
      "cell_type": "code",
      "metadata": {
        "id": "cRqj7Be-Uxjo",
        "colab_type": "code",
        "colab": {}
      },
      "source": [
        "class BatchNormalizedLayer(Layer):\n",
        "  def __init__(self, layer, axis=-1, activation=None, **kwargs):\n",
        "    \"\"\"Runs batch normalization on layer instance and applies the activation function\n",
        "    \n",
        "    Args:\n",
        "      layer(layers.Layer): A layer to normalize its output\n",
        "      axis(int): the axis that should be normalized (typically the features axis).\n",
        "      activation(str): Activation function to use\n",
        "    \"\"\"\n",
        "    super(BatchNormalizedLayer, self).__init__(**kwargs)\n",
        "    \n",
        "    self.layer = layer\n",
        "    self.activation = activation\n",
        "    self.axis = axis\n",
        "    \n",
        "    self.batch_norm = BatchNormalization(axis=self.axis)\n",
        "    self.act_fn = Activation(self.activation)\n",
        "    \n",
        "  def compute_output_shape(self, input_shape):\n",
        "    return self.layer.compute_output_shape(input_shape)\n",
        "    \n",
        "  def call(self, inputs, training=None):\n",
        "\n",
        "    x = self.layer(inputs)\n",
        "    x = self.batch_norm(x, training=training)\n",
        "    x = self.act_fn(x)\n",
        "    \n",
        "    self.trainable_weights += self.layer.trainable_weights + self.batch_norm.trainable_weights\n",
        "    self.non_trainable_weights += self.layer.non_trainable_weights + self.batch_norm.non_trainable_weights\n",
        "    \n",
        "    return x"
      ],
      "execution_count": 0,
      "outputs": []
    },
    {
      "cell_type": "code",
      "metadata": {
        "id": "8msEZXcrVIUb",
        "colab_type": "code",
        "colab": {}
      },
      "source": [
        "import numpy as np\n",
        "\n",
        "bnl = BatchNormalizedLayer(Dense(5), activation='relu')\n",
        "x = K.constant(2.5 * np.random.randn(10, 4) + 3)\n",
        "\n",
        "assert K.eval(bnl(x)).shape == (10, 5)"
      ],
      "execution_count": 0,
      "outputs": []
    },
    {
      "cell_type": "markdown",
      "metadata": {
        "id": "3QGgWFDNVPO2",
        "colab_type": "text"
      },
      "source": [
        "# **CNN**\n",
        "\n",
        "Now we have our special layer. So, let's use it in a real neural network. We want to improve the baseline using the Batch Normalization layer. Our desired task is farsi_handwritten_numbers image classification."
      ]
    },
    {
      "cell_type": "code",
      "metadata": {
        "id": "xKy4YgMuVRwv",
        "colab_type": "code",
        "colab": {
          "base_uri": "https://localhost:8080/",
          "height": 69
        },
        "outputId": "1375da7f-30de-4992-c376-420bbe9607d7"
      },
      "source": [
        "import numpy as np\n",
        "import matplotlib.pyplot as plt\n",
        "\n",
        "num_classes = 10\n",
        "\n",
        "# Convert class vectors to binary class matrices.\n",
        "y_train = to_categorical(y_train, num_classes)\n",
        "y_test = to_categorical(y_test, num_classes)\n",
        "\n",
        "print('x_train shape:', x_train.shape)\n",
        "print(x_train.shape[0], 'train samples')\n",
        "print(x_test.shape[0], 'test samples')\n",
        "\n",
        "# fig, axes1 = plt.subplots(2,5,figsize=(10,4))\n",
        "# for j in range(2):\n",
        "#   for k in range(5):\n",
        "#     i = np.random.choice(range(len(x_train)))\n",
        "#     axes1[j][k].set_axis_off()\n",
        "#     axes1[j][k].imshow(x_train[i:i+1][0])\n",
        "        \n",
        "# Normalize\n",
        "x_train = x_train.astype('float32')\n",
        "x_test = x_test.astype('float32')\n",
        "x_train /= 255\n",
        "x_test /= 255"
      ],
      "execution_count": 38,
      "outputs": [
        {
          "output_type": "stream",
          "text": [
            "x_train shape: (60000, 1024)\n",
            "60000 train samples\n",
            "20000 test samples\n"
          ],
          "name": "stdout"
        }
      ]
    },
    {
      "cell_type": "code",
      "metadata": {
        "id": "vn9yv49VWDeP",
        "colab_type": "code",
        "colab": {}
      },
      "source": [
        "def visualize_loss_and_acc(history):\n",
        "  history_dict = history.history\n",
        "  loss_values = history_dict['loss']\n",
        "  val_loss_values = history_dict['val_loss']\n",
        "  acc = history_dict['acc']\n",
        "\n",
        "  epochs = range(1, len(acc) + 1)\n",
        "\n",
        "  f = plt.figure(figsize=(10,3))\n",
        "\n",
        "  plt.subplot(1,2,1)\n",
        "  plt.plot(epochs, loss_values, 'bo', label='Training loss')\n",
        "  plt.plot(epochs, val_loss_values, 'b', label='Validation loss')\n",
        "  plt.title('Training and validation loss')\n",
        "  plt.xlabel('Epochs')\n",
        "  plt.ylabel('Loss')\n",
        "  plt.legend()\n",
        "\n",
        "\n",
        "  acc_values = history_dict['acc']\n",
        "  val_acc = history_dict['val_acc']\n",
        "\n",
        "  plt.subplot(1,2,2)\n",
        "  plt.plot(epochs, acc, 'bo', label='Training acc')\n",
        "  plt.plot(epochs, val_acc, 'b', label='Validation acc')\n",
        "  plt.title('Training and validation accuracy')\n",
        "  plt.xlabel('Epochs')\n",
        "  plt.ylabel('Loss')\n",
        "  plt.legend()\n",
        "\n",
        "  plt.show()"
      ],
      "execution_count": 0,
      "outputs": []
    },
    {
      "cell_type": "markdown",
      "metadata": {
        "id": "oTa92lgbWL6v",
        "colab_type": "text"
      },
      "source": [
        "define the baseline model"
      ]
    },
    {
      "cell_type": "code",
      "metadata": {
        "id": "VWQ6psp0WPVD",
        "colab_type": "code",
        "colab": {}
      },
      "source": [
        "def get_baseline_model():\n",
        "  model = Sequential()\n",
        "  model.add(Conv2D(32, (3, 3), padding='same',\n",
        "                   input_shape=x_train.shape[1:]))\n",
        "  model.add(Activation('relu'))\n",
        "  model.add(Conv2D(32, (3, 3)))\n",
        "  model.add(Activation('relu'))\n",
        "  model.add(MaxPooling2D(pool_size=(2, 2)))\n",
        "  model.add(Dropout(0.25))\n",
        "\n",
        "  model.add(Conv2D(64, (3, 3), padding='same'))\n",
        "  model.add(Activation('relu'))\n",
        "  model.add(Conv2D(64, (3, 3)))\n",
        "  model.add(Activation('relu'))\n",
        "  model.add(MaxPooling2D(pool_size=(2, 2)))\n",
        "  model.add(Dropout(0.25))\n",
        "\n",
        "  model.add(Flatten())\n",
        "  model.add(Dense(512))\n",
        "  model.add(Activation('relu'))\n",
        "  model.add(Dropout(0.5))\n",
        "  model.add(Dense(num_classes))\n",
        "  model.add(Activation('softmax'))\n",
        "  \n",
        "  model.compile(loss='categorical_crossentropy',\n",
        "                optimizer=keras.optimizers.rmsprop(lr=0.0001, decay=1e-6),\n",
        "                metrics=['accuracy'])\n",
        "  \n",
        "  return model"
      ],
      "execution_count": 0,
      "outputs": []
    },
    {
      "cell_type": "markdown",
      "metadata": {
        "id": "vRPV4CWXWVrU",
        "colab_type": "text"
      },
      "source": [
        "create baseline model"
      ]
    },
    {
      "cell_type": "code",
      "metadata": {
        "id": "b_wrBublWSPp",
        "colab_type": "code",
        "colab": {}
      },
      "source": [
        "    batch_size = 32\n",
        "epochs = 25"
      ],
      "execution_count": 0,
      "outputs": []
    },
    {
      "cell_type": "code",
      "metadata": {
        "id": "j7BzCaKFWU5l",
        "colab_type": "code",
        "colab": {}
      },
      "source": [
        "# Create the baseline model\n",
        "baseline = get_baseline_model()\n",
        "\n",
        "# Train model\n",
        "bs_history = baseline.fit(\n",
        "    x_train, y_train,\n",
        "    batch_size=batch_size,\n",
        "    epochs=epochs,\n",
        "    validation_data=(x_test, y_test),\n",
        "    shuffle=True\n",
        ")"
      ],
      "execution_count": 0,
      "outputs": []
    },
    {
      "cell_type": "markdown",
      "metadata": {
        "id": "91P3OIOaWath",
        "colab_type": "text"
      },
      "source": [
        "visualizing model"
      ]
    },
    {
      "cell_type": "code",
      "metadata": {
        "id": "_m97qn-_WcY6",
        "colab_type": "code",
        "colab": {}
      },
      "source": [
        "visualize_loss_and_acc(bs_history)\n"
      ],
      "execution_count": 0,
      "outputs": []
    },
    {
      "cell_type": "code",
      "metadata": {
        "id": "RXtViNy8WemR",
        "colab_type": "code",
        "colab": {}
      },
      "source": [
        "# Score trained model.\n",
        "scores = baseline.evaluate(x_test, y_test, verbose=1)\n",
        "print('Test accuracy:', scores[1])"
      ],
      "execution_count": 0,
      "outputs": []
    },
    {
      "cell_type": "markdown",
      "metadata": {
        "id": "-zxpYLYIWjx2",
        "colab_type": "text"
      },
      "source": [
        "Now update the baseline to create an enhanced model only by using BatchNormalizedLayer"
      ]
    },
    {
      "cell_type": "code",
      "metadata": {
        "id": "uS5nsMXFWiQj",
        "colab_type": "code",
        "colab": {}
      },
      "source": [
        "def get_improved_model():\n",
        "  \n",
        "  ########################################\n",
        "  #     Put your implementation here     #\n",
        "  ########################################\n",
        "  \n",
        "  model = Sequential()\n",
        "  \n",
        "  model.add(BatchNormalizedLayer(\n",
        "      Conv2D(32, (3, 3), padding='same'),\n",
        "      'relu',\n",
        "      input_shape=x_train.shape[1:]\n",
        "  ))\n",
        "  \n",
        "  model.add(BatchNormalizedLayer(\n",
        "        Conv2D(32, (3, 3)),\n",
        "        'relu'\n",
        "  ))\n",
        "  \n",
        "  model.add(MaxPooling2D(pool_size=(2, 2)))\n",
        "  model.add(Dropout(0.25))\n",
        "  \n",
        "  model.add(BatchNormalizedLayer(\n",
        "        Conv2D(64, (3, 3), padding='same'),\n",
        "        'relu'\n",
        "  ))\n",
        "  \n",
        "  model.add(BatchNormalizedLayer(\n",
        "        Conv2D(64, (3, 3)),\n",
        "        'relu'\n",
        "  ))\n",
        "  \n",
        "  model.add(MaxPooling2D(pool_size=(2, 2)))\n",
        "  model.add(Dropout(0.25))\n",
        "\n",
        "  model.add(Flatten())\n",
        "  model.add(BatchNormalizedLayer(\n",
        "        Dense(512),\n",
        "        'relu'\n",
        "  ))\n",
        "  \n",
        "  model.add(Activation('relu'))\n",
        "  model.add(Dropout(0.5))\n",
        "  model.add(Dense(num_classes))\n",
        "  model.add(Activation('softmax'))\n",
        "  \n",
        "  model.compile(loss='categorical_crossentropy',\n",
        "                optimizer=keras.optimizers.rmsprop(lr=0.0001, decay=1e-6),\n",
        "                metrics=['accuracy'])\n",
        "  \n",
        "  return model"
      ],
      "execution_count": 0,
      "outputs": []
    },
    {
      "cell_type": "markdown",
      "metadata": {
        "id": "Lnw5XV_UWpEV",
        "colab_type": "text"
      },
      "source": [
        "train and eval"
      ]
    },
    {
      "cell_type": "code",
      "metadata": {
        "id": "mZ3Eg9TcWqWo",
        "colab_type": "code",
        "colab": {}
      },
      "source": [
        "# Create the baseline model\n",
        "impv_model = get_improved_model()\n",
        "\n",
        "# Train model\n",
        "impv_history = impv_model.fit(\n",
        "    x_train, y_train,\n",
        "    batch_size=batch_size,\n",
        "    epochs=epochs,\n",
        "    validation_data=(x_test, y_test),\n",
        "    shuffle=True\n",
        ")"
      ],
      "execution_count": 0,
      "outputs": []
    },
    {
      "cell_type": "markdown",
      "metadata": {
        "id": "0rAShTIMWsMO",
        "colab_type": "text"
      },
      "source": [
        "visualizing training and eval"
      ]
    },
    {
      "cell_type": "code",
      "metadata": {
        "id": "tRBdngiNWuK5",
        "colab_type": "code",
        "colab": {}
      },
      "source": [
        "visualize_loss_and_acc(impv_history)\n"
      ],
      "execution_count": 0,
      "outputs": []
    },
    {
      "cell_type": "code",
      "metadata": {
        "id": "nX3YbZsxWwlu",
        "colab_type": "code",
        "colab": {}
      },
      "source": [
        "# Score trained model.\n",
        "scores = impv_model.evaluate(x_test, y_test, verbose=1)\n",
        "print('Test accuracy:', scores[1])"
      ],
      "execution_count": 0,
      "outputs": []
    },
    {
      "cell_type": "code",
      "metadata": {
        "id": "CvlqYd17WygD",
        "colab_type": "code",
        "colab": {}
      },
      "source": [
        "# Remember to run this cell after each time you update the model, \n",
        "# this is a deliverable item of your assignemnt\n",
        "impv_model.save(str(ASSIGNMENT_PATH / 'cifar_impv.h5'))"
      ],
      "execution_count": 0,
      "outputs": []
    }
  ]
}