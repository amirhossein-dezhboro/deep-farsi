{
  "nbformat": 4,
  "nbformat_minor": 0,
  "metadata": {
    "colab": {
      "name": "Copy of handwritting.ipynb",
      "version": "0.3.2",
      "provenance": [],
      "collapsed_sections": [],
      "toc_visible": true,
      "include_colab_link": true
    },
    "kernelspec": {
      "name": "python3",
      "display_name": "Python 3"
    },
    "accelerator": "GPU"
  },
  "cells": [
    {
      "cell_type": "markdown",
      "metadata": {
        "id": "view-in-github",
        "colab_type": "text"
      },
      "source": [
        "<a href=\"https://colab.research.google.com/github/the-real-dezhi/deep-farsi/blob/master/Copy_of_handwritting.ipynb\" target=\"_parent\"><img src=\"https://colab.research.google.com/assets/colab-badge.svg\" alt=\"Open In Colab\"/></a>"
      ]
    },
    {
      "cell_type": "markdown",
      "metadata": {
        "id": "u23OS3jgNGzR",
        "colab_type": "text"
      },
      "source": [
        "# **1 Preprocessing Stage**\n",
        "The preprocessing of the dataset is one of the most important and time-consuming steps of any deep learning project. Most of the time, we have a dataset that is not well-processed and ready to be fed into a neural network. Sometimes, the data might even be clean and organized, but not suitable to fit to our problem.\n",
        "\n",
        "In this scenario, we have a dataset of Persian handwritten digits and we want to recognize digits only by looking at their image. Here is a brief stat of our dataset:\n"
      ]
    },
    {
      "cell_type": "code",
      "metadata": {
        "id": "tSZ2BkPyT712",
        "colab_type": "code",
        "outputId": "2fb2b92c-9427-4c7d-da63-4594c6ad9fbb",
        "colab": {
          "base_uri": "https://localhost:8080/",
          "height": 87
        }
      },
      "source": [
        "# Download the dataset and unzip\n",
        "! wget -q http://iust-deep-learning.github.io/972/static_files/assignments/asg01_assets/data.zip\n",
        "! unzip data.zip -d ."
      ],
      "execution_count": 0,
      "outputs": [
        {
          "output_type": "stream",
          "text": [
            "Archive:  data.zip\n",
            "  inflating: ./test.cdb              \n",
            "  inflating: ./train.cdb             \n",
            "  inflating: ./util.py               \n"
          ],
          "name": "stdout"
        }
      ]
    },
    {
      "cell_type": "markdown",
      "metadata": {
        "id": "3HVKdbPbQRR_",
        "colab_type": "text"
      },
      "source": [
        " we have to import some prerequisites:"
      ]
    },
    {
      "cell_type": "code",
      "metadata": {
        "id": "_bsmb0jFPzlu",
        "colab_type": "code",
        "outputId": "e9a41fcc-1c13-4d66-aedc-26fc6a40d825",
        "colab": {
          "base_uri": "https://localhost:8080/",
          "height": 34
        }
      },
      "source": [
        "import random\n",
        "import numpy as np\n",
        "import matplotlib.pyplot as plt\n",
        "plt.rcParams['figure.figsize'] = (7,9) # Make the figures a bit bigger\n",
        "import cv2\n",
        "from keras.utils import to_categorical\n",
        "\n",
        "from util import read_raw_dataset"
      ],
      "execution_count": 0,
      "outputs": [
        {
          "output_type": "stream",
          "text": [
            "Using TensorFlow backend.\n"
          ],
          "name": "stderr"
        }
      ]
    },
    {
      "cell_type": "markdown",
      "metadata": {
        "id": "pz4z_6REQLJX",
        "colab_type": "text"
      },
      "source": [
        "Let's load the dataset using the provided function read_raw_dataset:\n",
        "\n"
      ]
    },
    {
      "cell_type": "code",
      "metadata": {
        "id": "IzU6qLiIP4x3",
        "colab_type": "code",
        "outputId": "0a734171-986d-4f1e-a2ce-bb2afdb901d4",
        "colab": {
          "base_uri": "https://localhost:8080/",
          "height": 156
        }
      },
      "source": [
        "\n",
        "ds_images, ds_labels = read_raw_dataset(\"train.cdb\")\n",
        "\n",
        "print(\"Images:\")\n",
        "print(type(ds_images))\n",
        "print(len(ds_images))\n",
        "print(type(ds_images[0]))\n",
        "print(ds_images[0].shape)\n",
        "\n",
        "print(\"\\nLabels:\")\n",
        "print(ds_labels[:30])"
      ],
      "execution_count": 0,
      "outputs": [
        {
          "output_type": "stream",
          "text": [
            "Images:\n",
            "<class 'list'>\n",
            "60000\n",
            "<class 'numpy.ndarray'>\n",
            "(27, 20)\n",
            "\n",
            "Labels:\n",
            "[6, 5, 0, 2, 7, 0, 7, 5, 0, 7, 0, 6, 3, 6, 5, 5, 3, 3, 2, 9, 6, 3, 4, 4, 0, 7, 2, 7, 8, 6]\n"
          ],
          "name": "stdout"
        }
      ]
    },
    {
      "cell_type": "markdown",
      "metadata": {
        "id": "VG9Pb6wnNWj5",
        "colab_type": "text"
      },
      "source": [
        "As you can see, train_images is a list of images and train_labels contains the labels for each element in the image list. Each image is represented as 2D (numpy) array of floats/ints.\n",
        "\n",
        "So, lets look at some of the images:"
      ]
    },
    {
      "cell_type": "code",
      "metadata": {
        "id": "nqDob5S5QZ8T",
        "colab_type": "code",
        "outputId": "5b5e8a3c-5f85-4548-8637-e03cd9cecd25",
        "colab": {
          "base_uri": "https://localhost:8080/",
          "height": 499
        }
      },
      "source": [
        "# Randomly sample images, Re run the cell to see new images.\n",
        "plt.figure(figsize=(12,8))\n",
        "for i, index in enumerate(random.sample(list(range(len(ds_images))), 10)):\n",
        "    plt.subplot(2,5,i+1)\n",
        "    plt.imshow(ds_images[index], cmap='gray', interpolation='none')\n",
        "    plt.title(\"Label {}\".format(ds_labels[index]))"
      ],
      "execution_count": 0,
      "outputs": [
        {
          "output_type": "display_data",
          "data": {
            "image/png": "[encoded data removed]",
            "text/plain": [
              "<Figure size 864x576 with 10 Axes>"
            ]
          },
          "metadata": {
            "tags": []
          }
        }
      ]
    },
    {
      "cell_type": "markdown",
      "metadata": {
        "id": "3NjYlhvKvEaj",
        "colab_type": "text"
      },
      "source": [
        "Pretty great! ha? But it seems images are not in a fixed dimension. Let's check our hypothesis:\n",
        "\n"
      ]
    },
    {
      "cell_type": "code",
      "metadata": {
        "id": "FGZccBgnkpZr",
        "colab_type": "code",
        "outputId": "0e5779d8-91ca-4426-8dc9-742ae3fd7fbb",
        "colab": {
          "base_uri": "https://localhost:8080/",
          "height": 72
        }
      },
      "source": [
        "unique_heights = list(set([m.shape[0] for m in ds_images]))\n",
        "print(\"unique heights:\", unique_heights)\n",
        "\n",
        "unique_widths = list(set([m.shape[1] for m in ds_images]))\n",
        "print(\"unique widths:\", unique_widths)"
      ],
      "execution_count": 0,
      "outputs": [
        {
          "output_type": "stream",
          "text": [
            "unique heights: [4, 5, 6, 7, 8, 9, 10, 11, 12, 13, 14, 15, 16, 17, 18, 19, 20, 21, 22, 23, 24, 25, 26, 27, 28, 29, 30, 31, 32, 33, 34, 35, 36, 37, 38, 39, 40, 41, 42, 43, 44, 45, 46, 47, 48, 49, 50, 51, 52, 53, 54, 55, 56, 57, 58, 59, 60, 61, 62]\n",
            "unique widths: [3, 4, 5, 6, 7, 8, 9, 10, 11, 12, 13, 14, 15, 16, 17, 18, 19, 20, 21, 22, 23, 24, 25, 26, 27, 28, 29, 30, 31, 32, 33, 34, 35, 36, 37, 38, 39, 40, 41, 42, 43, 44, 45, 46, 47, 48, 50, 51]\n"
          ],
          "name": "stdout"
        }
      ]
    },
    {
      "cell_type": "markdown",
      "metadata": {
        "id": "zdOBf8xQvKZT",
        "colab_type": "text"
      },
      "source": [
        "Unfortunately, the images in our dataset do not have equal dimensions. So, we have to implement a function to fit the image in a fixed frame.\n",
        "\n",
        "Note: There might be a situation where the image is bigger than the frame size; So, we first need to scale it down and then fit it into a fixed frame."
      ]
    },
    {
      "cell_type": "code",
      "metadata": {
        "id": "XH1wtxfwvLMw",
        "colab_type": "code",
        "colab": {}
      },
      "source": [
        "def fit_and_resize_image(src_image, dst_image_size):\n",
        "\n",
        "  dst_image_height = 32\n",
        "  dst_image_width = dst_image_height\n",
        "    \n",
        "  src_image_height = src_image.shape[0]\n",
        "  src_image_width = src_image.shape[1]\n",
        "\n",
        "  if src_image_height > dst_image_height or src_image_width > dst_image_width:\n",
        "      height_scale = dst_image_height / src_image_height\n",
        "      width_scale = dst_image_width / src_image_width\n",
        "      scale = min(height_scale, width_scale)\n",
        "      img = cv2.resize(src=src_image, dsize=(0, 0), fx=scale, fy=scale, interpolation=cv2.INTER_CUBIC)\n",
        "  else:\n",
        "      img = src_image\n",
        "\n",
        "  img_height = img.shape[0]\n",
        "  img_width = img.shape[1]\n",
        "\n",
        "  dst_image = np.zeros(shape=[dst_image_height, dst_image_width], dtype=np.uint8)\n",
        "\n",
        "  y_offset = (dst_image_height - img_height) // 2\n",
        "  x_offset = (dst_image_width - img_width) // 2\n",
        "\n",
        "  dst_image[y_offset:y_offset+img_height, x_offset:x_offset+img_width] = img\n",
        "\n",
        "  return dst_image"
      ],
      "execution_count": 0,
      "outputs": []
    },
    {
      "cell_type": "code",
      "metadata": {
        "id": "GO21lmEGvR11",
        "colab_type": "code",
        "colab": {}
      },
      "source": [
        "# Define a constant for our image size.\n",
        "IMAGE_SIZE = 32"
      ],
      "execution_count": 0,
      "outputs": []
    },
    {
      "cell_type": "code",
      "metadata": {
        "id": "UOfawFO9vVas",
        "colab_type": "code",
        "outputId": "68c0acc5-e6a6-495e-d4f6-4f2c4aa8b9fa",
        "colab": {
          "base_uri": "https://localhost:8080/",
          "height": 365
        }
      },
      "source": [
        "plt.subplot(1,2,1); plt.imshow(ds_images[72], cmap='gray', interpolation='none'); plt.title('Before')\n",
        "plt.subplot(1,2,2); plt.imshow(fit_and_resize_image(ds_images[72], IMAGE_SIZE), cmap='gray', interpolation='none'); plt.title('After')"
      ],
      "execution_count": 0,
      "outputs": [
        {
          "output_type": "execute_result",
          "data": {
            "text/plain": [
              "Text(0.5, 1.0, 'After')"
            ]
          },
          "metadata": {
            "tags": []
          },
          "execution_count": 8
        },
        {
          "output_type": "display_data",
          "data": {
            "image/png": "[encoded data removed]",
            "text/plain": [
              "<Figure size 504x648 with 2 Axes>"
            ]
          },
          "metadata": {
            "tags": []
          }
        }
      ]
    },
    {
      "cell_type": "markdown",
      "metadata": {
        "id": "5ESfY1BMxpCt",
        "colab_type": "text"
      },
      "source": [
        " Now it's time to use that and create a function to read the dataset, process it, and return it as a Numpy array. As you may have noticed, image values are in the 0-255 range (0 is black and 255 is white). Generally, we first normalize our input when we want to feed them into a neural network. So, don't forget to normalize the images.\n",
        "\n",
        "Note: When we're solving a multi-label classification probelm it is important for the labels to be in one-hot format. So we need to convert them to one-hot format before returning the function."
      ]
    },
    {
      "cell_type": "code",
      "metadata": {
        "id": "kaXRIdbTxn13",
        "colab_type": "code",
        "colab": {}
      },
      "source": [
        "def read_dataset(dataset_path, images_size=32):\n",
        "  \n",
        "  \"\"\"\n",
        "  Read & process Persian handwritten digits dataset\n",
        "  \n",
        "  Args:\n",
        "    dataset_path: path to dataset file\n",
        "    image_size: size that should be fixed for all images.\n",
        "    \n",
        "  Returns:\n",
        "    X: numpy ndarry with shape (num_samples, images_size, images_size) for normalized images \n",
        "    y: numpy ndarry with shape (num_samples, 10) for labels in one-hot format\n",
        "  \"\"\"\n",
        "  \n",
        "  images, labels = read_raw_dataset(dataset_path)\n",
        "\n",
        "  X = np.zeros(shape=[len(images), images_size, images_size], dtype=np.float32)\n",
        "\n",
        "  for i, img in enumerate(images):\n",
        "    X[i] = fit_and_resize_image(img, IMAGE_SIZE) / 255.0\n",
        "  \n",
        "  Y = to_categorical(labels, num_classes=10, dtype=np.int)\n",
        "  \n",
        "  return X, Y"
      ],
      "execution_count": 0,
      "outputs": []
    },
    {
      "cell_type": "markdown",
      "metadata": {
        "id": "HgxvttmCzakr",
        "colab_type": "text"
      },
      "source": [
        "\n",
        "**Why should we normalize images to the [0-1] range?**\n",
        "Normalizing inputs make them have similar scales. This property will lead to a symmetric cost function, which is easier and faster to optimize."
      ]
    },
    {
      "cell_type": "markdown",
      "metadata": {
        "id": "QR3HtA0OzoZ7",
        "colab_type": "text"
      },
      "source": [
        "Great! Now we have everything ready to build our neural network.\n",
        "\n"
      ]
    },
    {
      "cell_type": "code",
      "metadata": {
        "id": "jZCLhHSFwo5L",
        "colab_type": "code",
        "colab": {}
      },
      "source": [
        "train_images, train_labels = read_dataset(\"train.cdb\", IMAGE_SIZE)\n",
        "test_images, test_labels = read_dataset(\"test.cdb\", IMAGE_SIZE)\n",
        "\n",
        "assert train_images.shape == (60000, IMAGE_SIZE, IMAGE_SIZE)\n",
        "assert test_images.shape == (20000, IMAGE_SIZE, IMAGE_SIZE)\n",
        "\n",
        "assert train_labels.shape == (60000, 10)\n",
        "assert test_labels.shape == (20000, 10)\n",
        "\n",
        "assert train_images.mean() > 0.0\n",
        "assert test_images.mean() > 0.0\n",
        "\n",
        "assert 0. <= train_images.min() and train_images.max() <= 1\n",
        "assert 0. <= test_images.min() and test_images.max() <= 1"
      ],
      "execution_count": 0,
      "outputs": []
    },
    {
      "cell_type": "code",
      "metadata": {
        "id": "4-seuosOzqla",
        "colab_type": "code",
        "outputId": "81641773-faf3-4536-9fb4-56923a0fe360",
        "colab": {
          "base_uri": "https://localhost:8080/",
          "height": 465
        }
      },
      "source": [
        "plt.figure(figsize=(10,8))\n",
        "for i, index in enumerate(random.sample(list(range(len(train_images))), 6)):\n",
        "    plt.subplot(2,3,i+1)\n",
        "    plt.imshow(train_images[index], cmap='gray', interpolation='none')\n",
        "    plt.title(\"Label {}\".format(str(np.argmax(train_labels[index]))))"
      ],
      "execution_count": 0,
      "outputs": [
        {
          "output_type": "display_data",
          "data": {
            "image/png": "[encoded data removed]",
            "text/plain": [
              "<Figure size 720x576 with 6 Axes>"
            ]
          },
          "metadata": {
            "tags": []
          }
        }
      ]
    },
    {
      "cell_type": "markdown",
      "metadata": {
        "id": "purPmTt3z0x3",
        "colab_type": "text"
      },
      "source": [
        "# **2 Building the model**\n",
        "\n",
        "In class, we exclusively used Keras Layers API to build a neural network; but, now, we want to get a little deeper and see what's going on behind this API.\n",
        "\n",
        "## **2.1 Low level implementation**\n",
        "When we code in Keras, we are simply stacking up layer instances. However the implementation of neural networks is basically nothing but matrix multiplication and applying functions on them. Deep learning libraries are made to perform matrix multiplication in the first place; so, each of these frameworks should be equipped with matrix manipulation tools and APIs. Keras is no exception.\n",
        "\n",
        "Perhaps you might think that Keras library has much higher level abstractions which makes significantly easier to work with. So, why do we have to learn low-level APIs? The point is that there are situations that we need low-level APIs. For example:\n",
        "\n",
        "\n",
        "\n",
        "*   Sometimes the layers we want to use are not included in the default Keras implementation thus we have to implement them by ourselves.\n",
        "\n",
        "*   More importantly, other deep learning frameworks such as Tensorflow and Pytorch are more commonly used in low-level mode. Learning such APIs will enable us to better understand the source codes of papers and existing projects available on the Internet.\n",
        "\n",
        "\n",
        "\n",
        "Before starting to code, let's review some of the mathematics behind neural networks. We store connection's weights between layers in the shape of a matrix. Also, we represent layer bais as a matrix too. Here is an example:\n",
        "![alt text](https://github.com/the-real-dezhi/deep-farsi/blob/master/nn_weight.jpg)\n",
        "\n",
        "Suppose we have two layers in a neural network. Let  x∈R(N×1)  be the activations of the previous layer with  N  nodes,  W  be the weight of connections and  B be the bais for the current layer. Write an algebraic equation for the current layer with  M  nodes and activations  h . Also, specify dimensions of matrices  W,B,h :\n",
        "![alt text](https://github.com/the-real-dezhi/deep-farsi/blob/master/2019-07-07_14-18-53.png)\n",
        "\n",
        "Please note that Broadcasting is used to calculate the sum of  WT.x  and  B \n",
        "\n",
        "But, computers, especially GPUs, are much more efficient in parallel computing. So, instead of feeding single input  x→  through our neural network, why not feed them a batch? Thus, the input vector  x→∈RN×1  will be a matrix in the shape of  Rb×N  ( b  is the batch size) and each individual input will be one of  x  rows.\n",
        "\n",
        "Rewritre equation for  h  above and specify the dimensions of matrices  W,B,h \n",
        "\n",
        "![alt text](https://github.com/the-real-dezhi/deep-farsi/blob/master/2019-07-07_14-19-09.png)\n",
        "\n",
        "Please note that Broadcasting is used to calculate the sum of  x.W  and  B"
      ]
    },
    {
      "cell_type": "code",
      "metadata": {
        "id": "m8vKWMhF3WBv",
        "colab_type": "code",
        "colab": {}
      },
      "source": [
        "from keras import backend as K\n",
        "from keras.layers import Layer, Dense, Dropout\n",
        "from keras.models import Sequential\n",
        "from keras.utils.layer_utils import count_params\n",
        "\n",
        "from util import BaseModel"
      ],
      "execution_count": 0,
      "outputs": []
    },
    {
      "cell_type": "markdown",
      "metadata": {
        "id": "4WdAABNH3anZ",
        "colab_type": "text"
      },
      "source": [
        "Here is the model class that we're going to implement. LowLevelMLP is a simple MLP network with a configurable number of hidden layers. To complete this section you need to fill its two methods __init__() and build_model(). We use  __init__ to define networks weights and build_model() to specify operations between input and model weights to create the output.\n"
      ]
    },
    {
      "cell_type": "code",
      "metadata": {
        "id": "eCBx7ghz3b2M",
        "colab_type": "code",
        "colab": {}
      },
      "source": [
        "#model configuration\n",
        "HIDDEN_LAYERS = [512, 128]\n",
        "NUM_CLASSES = 10\n",
        "NUM_EPOCH = 20\n",
        "BATCH_SIZE = 512"
      ],
      "execution_count": 0,
      "outputs": []
    },
    {
      "cell_type": "code",
      "metadata": {
        "id": "eAoQBRXO3qiO",
        "colab_type": "code",
        "outputId": "a2e23e84-e8df-4104-c445-4df5117baa57",
        "colab": {
          "base_uri": "https://localhost:8080/",
          "height": 229
        }
      },
      "source": [
        "class LowLevelMLP(BaseModel):\n",
        "  \n",
        "  def __init__(self, input_shape, hidden_layers, num_classes=10):\n",
        "    \"\"\"\n",
        "    Initiate model with provided configuration\n",
        "    Args:\n",
        "      input_shape: size of input vector\n",
        "      hidden_layers: a list of integer, specify num hidden layer node from left to right,\n",
        "                     e.x.: [512, 128, ...]\n",
        "      num_classes: an integer defining number of classes, this is the number of model ouput nodes\n",
        "    \"\"\"\n",
        "    super(LowLevelMLP, self).__init__()\n",
        "    \n",
        "    self._input_shape = input_shape\n",
        "    self._hidden_layers = hidden_layers\n",
        "    self._num_classes = num_classes\n",
        "    \n",
        "    # Define model weights & biases according to self.hidden_layers and self.num_classes \n",
        "    # To create weight you can use self.add_weight\n",
        "    \n",
        "    self._model_weights = []\n",
        "    self._model_baiases = []\n",
        "\n",
        "    last_input_size = input_shape\n",
        "    for h in self._hidden_layers + [num_classes]:\n",
        "      self._model_weights.append(self.add_weight(\n",
        "          name='hid_%s' % h, \n",
        "          shape=(last_input_size, h), \n",
        "          initializer='glorot_uniform'\n",
        "      ))\n",
        "      self._model_baiases.append(self.add_weight(\n",
        "          name='bias_%s' % h, \n",
        "          shape=(h, ), \n",
        "          initializer='zeros'\n",
        "      ))\n",
        "\n",
        "      last_input_size = h\n",
        "    \n",
        "    \n",
        "  def build_model(self, x):\n",
        "    \"\"\"\n",
        "    The Model logic sits here.\n",
        "    Args:\n",
        "      x: an input tensor in shape of (?, input_size), ? is batch size and will be determined at the training phase\n",
        "         e.x.: x is tensor with shape (?, 784) for the MNIST dataset\n",
        "\n",
        "    Returns:\n",
        "      pred: an output tensor with shape (?, self.num_classes)\n",
        "\n",
        "    \"\"\"\n",
        "\n",
        "    h = x\n",
        "\n",
        "    for w, b in zip(self._model_weights, self._model_baiases):\n",
        "      h = K.relu(K.dot(h, w) + b)\n",
        "\n",
        "    pred = K.softmax(h)\n",
        "\n",
        "    return pred\n",
        "    \n",
        "\n",
        "ll_mlp = LowLevelMLP(IMAGE_SIZE ** 2, HIDDEN_LAYERS, NUM_CLASSES)\n",
        "ll_mlp._model_weights, ll_mlp._model_baiases"
      ],
      "execution_count": 0,
      "outputs": [
        {
          "output_type": "stream",
          "text": [
            "WARNING: Logging before flag parsing goes to stderr.\n",
            "W0714 12:51:47.222002 140006053853056 deprecation_wrapper.py:119] From /usr/local/lib/python3.6/dist-packages/keras/backend/tensorflow_backend.py:74: The name tf.get_default_graph is deprecated. Please use tf.compat.v1.get_default_graph instead.\n",
            "\n",
            "W0714 12:51:47.264533 140006053853056 deprecation_wrapper.py:119] From /usr/local/lib/python3.6/dist-packages/keras/backend/tensorflow_backend.py:4138: The name tf.random_uniform is deprecated. Please use tf.random.uniform instead.\n",
            "\n"
          ],
          "name": "stderr"
        },
        {
          "output_type": "execute_result",
          "data": {
            "text/plain": [
              "([<tf.Variable 'hid_512:0' shape=(1024, 512) dtype=float32_ref>,\n",
              "  <tf.Variable 'hid_128:0' shape=(512, 128) dtype=float32_ref>,\n",
              "  <tf.Variable 'hid_10:0' shape=(128, 10) dtype=float32_ref>],\n",
              " [<tf.Variable 'bias_512:0' shape=(512,) dtype=float32_ref>,\n",
              "  <tf.Variable 'bias_128:0' shape=(128,) dtype=float32_ref>,\n",
              "  <tf.Variable 'bias_10:0' shape=(10,) dtype=float32_ref>])"
            ]
          },
          "metadata": {
            "tags": []
          },
          "execution_count": 14
        }
      ]
    },
    {
      "cell_type": "code",
      "metadata": {
        "id": "HLUZ7meb36Up",
        "colab_type": "code",
        "colab": {}
      },
      "source": [
        "assert  count_params(ll_mlp.trainable_weights) == sum(\n",
        "    [(i*j) for i, j in zip([IMAGE_SIZE ** 2] + HIDDEN_LAYERS, HIDDEN_LAYERS + [NUM_CLASSES])] \n",
        "    + HIDDEN_LAYERS \n",
        "    + [NUM_CLASSES]\n",
        ")"
      ],
      "execution_count": 0,
      "outputs": []
    },
    {
      "cell_type": "code",
      "metadata": {
        "id": "cGvo6W6g3-7_",
        "colab_type": "code",
        "outputId": "1f86505d-2f21-4022-a4dd-07504744da2a",
        "colab": {
          "base_uri": "https://localhost:8080/",
          "height": 52
        }
      },
      "source": [
        "# Before start training the model, we need to reshape the input so that each 32x32 image\n",
        "# becomes a single 1024 dimensional vector.\n",
        "\n",
        "x_train = train_images.reshape((-1, IMAGE_SIZE * IMAGE_SIZE))\n",
        "y_train = train_labels.astype('float32')\n",
        "\n",
        "x_test = test_images.reshape((-1, IMAGE_SIZE * IMAGE_SIZE))\n",
        "y_test = test_labels.astype('float32')\n",
        "\n",
        "print(x_train.shape, x_test.shape)\n",
        "print(y_train.shape, y_test.shape)"
      ],
      "execution_count": 0,
      "outputs": [
        {
          "output_type": "stream",
          "text": [
            "(60000, 1024) (20000, 1024)\n",
            "(60000, 10) (20000, 10)\n"
          ],
          "name": "stdout"
        }
      ]
    },
    {
      "cell_type": "code",
      "metadata": {
        "id": "TpQGGDhq4B9i",
        "colab_type": "code",
        "outputId": "7b7e01b0-1f35-4f91-86b8-78ec46080a50",
        "colab": {
          "base_uri": "https://localhost:8080/",
          "height": 944
        }
      },
      "source": [
        "ll_mlp.compile(optimizer='rmsprop', loss='categorical_crossentropy', metrics=['accuracy'])\n",
        "ll_mlp_history = ll_mlp.fit(x_train, y_train, epochs=NUM_EPOCH, batch_size=BATCH_SIZE, validation_data=(x_test, y_test))"
      ],
      "execution_count": 0,
      "outputs": [
        {
          "output_type": "stream",
          "text": [
            "W0714 12:51:47.363306 140006053853056 deprecation_wrapper.py:119] From /usr/local/lib/python3.6/dist-packages/keras/optimizers.py:790: The name tf.train.Optimizer is deprecated. Please use tf.compat.v1.train.Optimizer instead.\n",
            "\n",
            "W0714 12:51:47.395381 140006053853056 deprecation_wrapper.py:119] From /usr/local/lib/python3.6/dist-packages/keras/backend/tensorflow_backend.py:517: The name tf.placeholder is deprecated. Please use tf.compat.v1.placeholder instead.\n",
            "\n",
            "W0714 12:51:47.429096 140006053853056 deprecation_wrapper.py:119] From /usr/local/lib/python3.6/dist-packages/keras/backend/tensorflow_backend.py:3295: The name tf.log is deprecated. Please use tf.math.log instead.\n",
            "\n",
            "W0714 12:51:47.567472 140006053853056 deprecation.py:323] From /usr/local/lib/python3.6/dist-packages/tensorflow/python/ops/math_grad.py:1250: add_dispatch_support.<locals>.wrapper (from tensorflow.python.ops.array_ops) is deprecated and will be removed in a future version.\n",
            "Instructions for updating:\n",
            "Use tf.where in 2.0, which has the same broadcast rule as np.where\n",
            "W0714 12:51:47.682469 140006053853056 deprecation_wrapper.py:119] From /usr/local/lib/python3.6/dist-packages/keras/backend/tensorflow_backend.py:986: The name tf.assign_add is deprecated. Please use tf.compat.v1.assign_add instead.\n",
            "\n"
          ],
          "name": "stderr"
        },
        {
          "output_type": "stream",
          "text": [
            "Train on 60000 samples, validate on 20000 samples\n",
            "Epoch 1/20\n",
            "60000/60000 [==============================] - 5s 77us/step - loss: 0.4468 - acc: 0.8463 - val_loss: 0.3606 - val_acc: 0.8699\n",
            "Epoch 2/20\n",
            "60000/60000 [==============================] - 1s 15us/step - loss: 0.2871 - acc: 0.8882 - val_loss: 0.3257 - val_acc: 0.8811\n",
            "Epoch 3/20\n",
            "60000/60000 [==============================] - 1s 15us/step - loss: 0.2653 - acc: 0.8927 - val_loss: 0.3284 - val_acc: 0.8812\n",
            "Epoch 4/20\n",
            "60000/60000 [==============================] - 1s 15us/step - loss: 0.2530 - acc: 0.8956 - val_loss: 0.2984 - val_acc: 0.8873\n",
            "Epoch 5/20\n",
            "60000/60000 [==============================] - 1s 16us/step - loss: 0.2457 - acc: 0.8971 - val_loss: 0.3499 - val_acc: 0.8854\n",
            "Epoch 6/20\n",
            "60000/60000 [==============================] - 1s 15us/step - loss: 0.2419 - acc: 0.8975 - val_loss: 0.3113 - val_acc: 0.8870\n",
            "Epoch 7/20\n",
            "60000/60000 [==============================] - 1s 15us/step - loss: 0.2392 - acc: 0.8982 - val_loss: 0.3296 - val_acc: 0.8811\n",
            "Epoch 8/20\n",
            "60000/60000 [==============================] - 1s 15us/step - loss: 0.2373 - acc: 0.8986 - val_loss: 0.3255 - val_acc: 0.8832\n",
            "Epoch 9/20\n",
            "60000/60000 [==============================] - 1s 15us/step - loss: 0.0397 - acc: 0.9850 - val_loss: 0.0897 - val_acc: 0.9810\n",
            "Epoch 10/20\n",
            "60000/60000 [==============================] - 1s 15us/step - loss: 0.0075 - acc: 0.9979 - val_loss: 0.0942 - val_acc: 0.9797\n",
            "Epoch 11/20\n",
            "60000/60000 [==============================] - 1s 15us/step - loss: 0.0054 - acc: 0.9985 - val_loss: 0.1138 - val_acc: 0.9790\n",
            "Epoch 12/20\n",
            "60000/60000 [==============================] - 1s 15us/step - loss: 0.0045 - acc: 0.9986 - val_loss: 0.0999 - val_acc: 0.9816\n",
            "Epoch 13/20\n",
            "60000/60000 [==============================] - 1s 16us/step - loss: 0.0037 - acc: 0.9989 - val_loss: 0.1036 - val_acc: 0.9798\n",
            "Epoch 14/20\n",
            "60000/60000 [==============================] - 1s 15us/step - loss: 0.0032 - acc: 0.9990 - val_loss: 0.1157 - val_acc: 0.9792\n",
            "Epoch 15/20\n",
            "60000/60000 [==============================] - 1s 15us/step - loss: 0.0027 - acc: 0.9992 - val_loss: 0.1047 - val_acc: 0.9812\n",
            "Epoch 16/20\n",
            "60000/60000 [==============================] - 1s 15us/step - loss: 0.0021 - acc: 0.9994 - val_loss: 0.1191 - val_acc: 0.9795\n",
            "Epoch 17/20\n",
            "60000/60000 [==============================] - 1s 15us/step - loss: 0.0014 - acc: 0.9995 - val_loss: 0.1236 - val_acc: 0.9808\n",
            "Epoch 18/20\n",
            "60000/60000 [==============================] - 1s 15us/step - loss: 0.0014 - acc: 0.9995 - val_loss: 0.1401 - val_acc: 0.9788\n",
            "Epoch 19/20\n",
            "60000/60000 [==============================] - 1s 15us/step - loss: 0.0023 - acc: 0.9994 - val_loss: 0.1154 - val_acc: 0.9812\n",
            "Epoch 20/20\n",
            "60000/60000 [==============================] - 1s 16us/step - loss: 8.5859e-04 - acc: 0.9996 - val_loss: 0.1207 - val_acc: 0.9816\n"
          ],
          "name": "stdout"
        }
      ]
    },
    {
      "cell_type": "markdown",
      "metadata": {
        "id": "TGU10WWY4Gg-",
        "colab_type": "text"
      },
      "source": [
        "Now visualize the traning:\n",
        "\n"
      ]
    },
    {
      "cell_type": "code",
      "metadata": {
        "id": "jzGjx3RB4ECc",
        "colab_type": "code",
        "colab": {}
      },
      "source": [
        "def visualize_loss_and_acc(history):\n",
        "  history_dict = history.history\n",
        "  loss_values = history_dict['loss']\n",
        "  val_loss_values = history_dict['val_loss']\n",
        "  acc = history_dict['acc']\n",
        "\n",
        "  epochs = range(1, len(acc) + 1)\n",
        "\n",
        "  f = plt.figure(figsize=(10,3))\n",
        "\n",
        "  plt.subplot(1,2,1)\n",
        "  plt.plot(epochs, loss_values, 'bo', label='Training loss')\n",
        "  plt.plot(epochs, val_loss_values, 'b', label='Validation loss')\n",
        "  plt.title('Training and validation loss')\n",
        "  plt.xlabel('Epochs')\n",
        "  plt.ylabel('Loss')\n",
        "  plt.legend()\n",
        "\n",
        "\n",
        "  acc_values = history_dict['acc']\n",
        "  val_acc = history_dict['val_acc']\n",
        "\n",
        "  plt.subplot(1,2,2)\n",
        "  plt.plot(epochs, acc, 'bo', label='Training acc')\n",
        "  plt.plot(epochs, val_acc, 'b', label='Validation acc')\n",
        "  plt.title('Training and validation accuracy')\n",
        "  plt.xlabel('Epochs')\n",
        "  plt.ylabel('Loss')\n",
        "  plt.legend()\n",
        "\n",
        "  plt.show()"
      ],
      "execution_count": 0,
      "outputs": []
    },
    {
      "cell_type": "code",
      "metadata": {
        "id": "mmXCgmgC4J7D",
        "colab_type": "code",
        "outputId": "ce74a71c-e197-410f-8060-9fc22f578af1",
        "colab": {
          "base_uri": "https://localhost:8080/",
          "height": 241
        }
      },
      "source": [
        "visualize_loss_and_acc(ll_mlp_history)\n"
      ],
      "execution_count": 0,
      "outputs": [
        {
          "output_type": "display_data",
          "data": {
            "image/png": "[encoded data removed]",
            "text/plain": [
              "<Figure size 720x216 with 2 Axes>"
            ]
          },
          "metadata": {
            "tags": []
          }
        }
      ]
    },
    {
      "cell_type": "markdown",
      "metadata": {
        "id": "djmEVxjd485x",
        "colab_type": "text"
      },
      "source": [
        "## **2.2 Custom Layer: Softmax**\n",
        "In this section, we're going to implement A custom Keras layer, A much realistic situation. For the sake of simplicity, we want to re-implement Softmax Layer. Before going through softmax implementation, let's review some of softmax details:\n",
        "\n",
        "Softmax has an interesting property that is quite useful in practice, Softmax is invariant to constant offsets in the input, that is, for any input vector  x  and any constant  c \n",
        "\n",
        "softmax(x)=softmax(x+c)\n",
        "\n",
        "where  x+c  means adding the constant c to every dimension of  x . we had that:\n",
        "\n",
        "softmax(x)[i]=ex[i]/∑[(j)] ex[j]\n",
        "\n",
        "In practice, we make use of this property and choose  c=−max[i] x[i]  when computing softmax probabilities for numerical stability (i.e., subtracting its maximum element from all elements of  x )."
      ]
    },
    {
      "cell_type": "code",
      "metadata": {
        "id": "2icszhVr4U5k",
        "colab_type": "code",
        "colab": {}
      },
      "source": [
        "class Softmax2D(Layer):\n",
        "  \"\"\"\n",
        "  Softmax activation function, Only works for 2d arrays.\n",
        "  \"\"\"\n",
        "\n",
        "  def __init__(self, **kwargs):\n",
        "    super(Softmax2D, self).__init__(**kwargs)\n",
        "    # We don't have any configuration for this custom layer,\n",
        "    # But in future you should save any configuration related \n",
        "    # to your layer in its constructor\n",
        "    \n",
        "  def compute_output_shape(self, input_shape):\n",
        "    \"\"\"Computes the output shape of the layer.\n",
        "\n",
        "    Assumes that the layer will be built\n",
        "    to match that input shape provided.\n",
        "\n",
        "    Args:\n",
        "      input_shape: Shape tuple (tuple of integers)\n",
        "        or list of shape tuples (one per output tensor of the layer).\n",
        "        Shape tuples can include None for free dimensions,\n",
        "        instead of an integer.\n",
        "\n",
        "    Returns:\n",
        "      An input shape tuple.\n",
        "    \"\"\"\n",
        "    # softmax of course doesn't change input shape, \n",
        "    # so we can simply return input_shape as output shape\n",
        "    return input_shape \n",
        "  \n",
        "  def build(self, input_shape):\n",
        "    \"\"\"\n",
        "    This is where you will define your weights. \n",
        "    This method must set self.built = True at the end, \n",
        "    which can be done by calling super(Softmax2D, self).build().\n",
        "    \n",
        "    Args:\n",
        "      input_shape: Keras tensor (future input to layer)\n",
        "        or list/tuple of Keras tensors to reference\n",
        "        for weight shape computations.\n",
        "    \"\"\"\n",
        "    # As softmax is simple activation layer, we don't need any weight  \n",
        "    # definitions for this layer.\n",
        "    super(Softmax2D, self).build(input_shape)\n",
        "    \n",
        "  def call(self, x):\n",
        "    \"\"\"\n",
        "    This is where the layer's logic lives.\n",
        "    \n",
        "    Args:\n",
        "      x: Input tensor, or list/tuple of input tensors.\n",
        "      \n",
        "    Returns:\n",
        "      A tensor.\n",
        "    \"\"\"\n",
        "    orig_shape = x.shape\n",
        "    \n",
        "    x = x - K.max(x, axis=1, keepdims=True)\n",
        "    x = K.exp(x)\n",
        "    sum_vec = K.sum(x, axis=1, keepdims=True)\n",
        "    x = x / sum_vec\n",
        "    \n",
        "    assert x.shape[1] == orig_shape[1] and len(x.shape) == len(orig_shape)\n",
        "    return x"
      ],
      "execution_count": 0,
      "outputs": []
    },
    {
      "cell_type": "code",
      "metadata": {
        "id": "bq_SkOel6I7N",
        "colab_type": "code",
        "outputId": "3dda3b21-d502-44d4-9baf-ed9a31b46222",
        "colab": {
          "base_uri": "https://localhost:8080/",
          "height": 69
        }
      },
      "source": [
        "x = K.constant(np.array([[1001, 1002], [3, 4]]))\n",
        "test2 = K.eval(Softmax2D()(x))\n",
        "print(test2)\n",
        "ans2 = np.array([\n",
        "  [0.26894142, 0.73105858],\n",
        "  [0.26894142, 0.73105858]])\n",
        "assert np.allclose(test2, ans2, rtol=1e-05, atol=1e-06)\n",
        "print(\"Passed!\")"
      ],
      "execution_count": 0,
      "outputs": [
        {
          "output_type": "stream",
          "text": [
            "[[0.26894143 0.7310586 ]\n",
            " [0.26894143 0.7310586 ]]\n",
            "Passed!\n"
          ],
          "name": "stdout"
        }
      ]
    },
    {
      "cell_type": "markdown",
      "metadata": {
        "id": "-2F5vyQg6OyI",
        "colab_type": "text"
      },
      "source": [
        "How to use our custom layer in practice?\n",
        "\n"
      ]
    },
    {
      "cell_type": "code",
      "metadata": {
        "id": "MyT_0Zqs6L_N",
        "colab_type": "code",
        "outputId": "c8461a41-6e59-458d-a745-66ed89ca1bfc",
        "colab": {
          "base_uri": "https://localhost:8080/",
          "height": 752
        }
      },
      "source": [
        "# Create simple MLP network similar to what you implmented in previous section\n",
        "s2d_mlp = Sequential()\n",
        "s2d_mlp.add(Dense(512, activation='relu'))\n",
        "s2d_mlp.add(Dense(128, activation='relu'))\n",
        "s2d_mlp.add(Dense(NUM_CLASSES, activation=None))\n",
        "s2d_mlp.add(Softmax2D()) # This is your custom layer, \n",
        "\n",
        "# compile & train model\n",
        "s2d_mlp.compile(optimizer='rmsprop', loss='categorical_crossentropy', metrics=['accuracy'])\n",
        "s2d_history = s2d_mlp.fit(\n",
        "    x_train, y_train, \n",
        "    epochs=NUM_EPOCH, \n",
        "    batch_size=BATCH_SIZE, \n",
        "    validation_data=(x_test, y_test)\n",
        ")"
      ],
      "execution_count": 0,
      "outputs": [
        {
          "output_type": "stream",
          "text": [
            "Train on 60000 samples, validate on 20000 samples\n",
            "Epoch 1/20\n",
            "60000/60000 [==============================] - 1s 20us/step - loss: 0.2166 - acc: 0.9362 - val_loss: 0.3144 - val_acc: 0.8971\n",
            "Epoch 2/20\n",
            "60000/60000 [==============================] - 1s 16us/step - loss: 0.0602 - acc: 0.9818 - val_loss: 0.1116 - val_acc: 0.9651\n",
            "Epoch 3/20\n",
            "60000/60000 [==============================] - 1s 16us/step - loss: 0.0350 - acc: 0.9898 - val_loss: 0.1007 - val_acc: 0.9695\n",
            "Epoch 4/20\n",
            "60000/60000 [==============================] - 1s 17us/step - loss: 0.0224 - acc: 0.9928 - val_loss: 0.0754 - val_acc: 0.9762\n",
            "Epoch 5/20\n",
            "60000/60000 [==============================] - 1s 16us/step - loss: 0.0149 - acc: 0.9952 - val_loss: 0.0757 - val_acc: 0.9799\n",
            "Epoch 6/20\n",
            "60000/60000 [==============================] - 1s 16us/step - loss: 0.0103 - acc: 0.9965 - val_loss: 0.0811 - val_acc: 0.9783\n",
            "Epoch 7/20\n",
            "60000/60000 [==============================] - 1s 16us/step - loss: 0.0071 - acc: 0.9976 - val_loss: 0.0852 - val_acc: 0.9793\n",
            "Epoch 8/20\n",
            "60000/60000 [==============================] - 1s 16us/step - loss: 0.0049 - acc: 0.9983 - val_loss: 0.0910 - val_acc: 0.9788\n",
            "Epoch 9/20\n",
            "60000/60000 [==============================] - 1s 16us/step - loss: 0.0037 - acc: 0.9989 - val_loss: 0.1049 - val_acc: 0.9783\n",
            "Epoch 10/20\n",
            "60000/60000 [==============================] - 1s 16us/step - loss: 0.0026 - acc: 0.9993 - val_loss: 0.0996 - val_acc: 0.9796\n",
            "Epoch 11/20\n",
            "60000/60000 [==============================] - 1s 16us/step - loss: 0.0026 - acc: 0.9992 - val_loss: 0.1042 - val_acc: 0.9811\n",
            "Epoch 12/20\n",
            "60000/60000 [==============================] - 1s 16us/step - loss: 0.0021 - acc: 0.9994 - val_loss: 0.1044 - val_acc: 0.9812\n",
            "Epoch 13/20\n",
            "60000/60000 [==============================] - 1s 16us/step - loss: 0.0011 - acc: 0.9996 - val_loss: 0.1108 - val_acc: 0.9805\n",
            "Epoch 14/20\n",
            "60000/60000 [==============================] - 1s 16us/step - loss: 0.0018 - acc: 0.9994 - val_loss: 0.1151 - val_acc: 0.9812\n",
            "Epoch 15/20\n",
            "60000/60000 [==============================] - 1s 16us/step - loss: 8.3318e-04 - acc: 0.9998 - val_loss: 0.1342 - val_acc: 0.9785\n",
            "Epoch 16/20\n",
            "60000/60000 [==============================] - 1s 16us/step - loss: 9.6978e-04 - acc: 0.9996 - val_loss: 0.1165 - val_acc: 0.9807\n",
            "Epoch 17/20\n",
            "60000/60000 [==============================] - 1s 16us/step - loss: 0.0013 - acc: 0.9996 - val_loss: 0.1221 - val_acc: 0.9808\n",
            "Epoch 18/20\n",
            "60000/60000 [==============================] - 1s 16us/step - loss: 6.7247e-04 - acc: 0.9998 - val_loss: 0.1232 - val_acc: 0.9817\n",
            "Epoch 19/20\n",
            "60000/60000 [==============================] - 1s 16us/step - loss: 7.5350e-04 - acc: 0.9999 - val_loss: 0.1325 - val_acc: 0.9807\n",
            "Epoch 20/20\n",
            "60000/60000 [==============================] - 1s 16us/step - loss: 4.3700e-04 - acc: 0.9999 - val_loss: 0.1707 - val_acc: 0.9770\n"
          ],
          "name": "stdout"
        }
      ]
    },
    {
      "cell_type": "code",
      "metadata": {
        "id": "RsPWWNvV6RYV",
        "colab_type": "code",
        "outputId": "0df1491e-7a56-49c8-b222-553397667b63",
        "colab": {
          "base_uri": "https://localhost:8080/",
          "height": 241
        }
      },
      "source": [
        "visualize_loss_and_acc(s2d_history)\n"
      ],
      "execution_count": 0,
      "outputs": [
        {
          "output_type": "display_data",
          "data": {
            "image/png": "[encoded data removed]",
            "text/plain": [
              "<Figure size 720x216 with 2 Axes>"
            ]
          },
          "metadata": {
            "tags": []
          }
        }
      ]
    },
    {
      "cell_type": "markdown",
      "metadata": {
        "id": "ZKbTP0_F6hjO",
        "colab_type": "text"
      },
      "source": [
        "# **3 Dropout**\n",
        "As you see, the validation error of the model starts to grow around epoch 5. But, our network is being optimized on the training loss during this time and its error is continuously reduced if the training dataset is not big enough (which is the case here). The model has mastered the task on the training set, but the learned network doesn't generalize to new examples that it has never seen!\n",
        "\n",
        "Dropout is one of the most common regularization techniques used to prevent overfitting. It randomly shuts down some neurons in each iteration.\n",
        "\n",
        "The reasons that why Dropout helps model generalization (not overfitting) is :\n",
        "\n",
        "\n",
        "1.   Not all connections between neurons are really necessary! by using dropout we zero down some of them (in each iteration), forcing our model to learn data with less number of connections (or neurons) leading to a simpler model with higher generalization power.\n",
        "2.   On the other hand, changing dropped neurons in each iteration makes our models an implicit ensemble of simpler neural networks, each learned the data in a different way. so we have many simple and diverse models which is expected to be better in generalization\n",
        "3.   Also we can interpret dropout as adding noise in output layer of each layer. this can break up insignificant patterns that occur in each layer, which our network would tend to memorize in training without dropout.\n",
        "\n",
        "[Thanks to my friend Mohsen Tabassy for explaining these reasons]\n",
        "\n"
      ]
    },
    {
      "cell_type": "code",
      "metadata": {
        "id": "HqJ5aINQ6cx1",
        "colab_type": "code",
        "outputId": "0032ee4b-659c-4d44-dc16-5b8e4eecd362",
        "colab": {
          "base_uri": "https://localhost:8080/",
          "height": 787
        }
      },
      "source": [
        "ss_mlp = Sequential()\n",
        "ss_mlp.add(Dense(16, activation='relu', input_shape=(1024,)))\n",
        "ss_mlp.add(Dense(16, activation='relu'))\n",
        "ss_mlp.add(Dense(10, activation='sigmoid'))\n",
        "\n",
        "ss_mlp.compile(optimizer='rmsprop', \n",
        "              loss='binary_crossentropy', \n",
        "              metrics=['acc'])\n",
        "\n",
        "ss_mlp_history = ss_mlp.fit(x_train, \n",
        "                                y_train, \n",
        "                                epochs=20, \n",
        "                                batch_size=512,\n",
        "                            validation_data=(x_test, y_test))\n",
        "\n",
        "print(\"Accuracy on Test set is:\", ss_mlp.evaluate(x_test, y_test)[1])"
      ],
      "execution_count": 0,
      "outputs": [
        {
          "output_type": "stream",
          "text": [
            "Train on 60000 samples, validate on 20000 samples\n",
            "Epoch 1/20\n",
            "60000/60000 [==============================] - 1s 18us/step - loss: 0.2168 - acc: 0.9194 - val_loss: 0.1166 - val_acc: 0.9611\n",
            "Epoch 2/20\n",
            "60000/60000 [==============================] - 1s 13us/step - loss: 0.0584 - acc: 0.9839 - val_loss: 0.0785 - val_acc: 0.9750\n",
            "Epoch 3/20\n",
            "60000/60000 [==============================] - 1s 13us/step - loss: 0.0393 - acc: 0.9885 - val_loss: 0.0636 - val_acc: 0.9795\n",
            "Epoch 4/20\n",
            "60000/60000 [==============================] - 1s 13us/step - loss: 0.0322 - acc: 0.9904 - val_loss: 0.0555 - val_acc: 0.9827\n",
            "Epoch 5/20\n",
            "60000/60000 [==============================] - 1s 13us/step - loss: 0.0282 - acc: 0.9917 - val_loss: 0.0519 - val_acc: 0.9837\n",
            "Epoch 6/20\n",
            "60000/60000 [==============================] - 1s 13us/step - loss: 0.0256 - acc: 0.9925 - val_loss: 0.0488 - val_acc: 0.9848\n",
            "Epoch 7/20\n",
            "60000/60000 [==============================] - 1s 13us/step - loss: 0.0237 - acc: 0.9931 - val_loss: 0.0457 - val_acc: 0.9861\n",
            "Epoch 8/20\n",
            "60000/60000 [==============================] - 1s 12us/step - loss: 0.0222 - acc: 0.9935 - val_loss: 0.0444 - val_acc: 0.9863\n",
            "Epoch 9/20\n",
            "60000/60000 [==============================] - 1s 13us/step - loss: 0.0209 - acc: 0.9939 - val_loss: 0.0436 - val_acc: 0.9869\n",
            "Epoch 10/20\n",
            "60000/60000 [==============================] - 1s 13us/step - loss: 0.0198 - acc: 0.9943 - val_loss: 0.0413 - val_acc: 0.9876\n",
            "Epoch 11/20\n",
            "60000/60000 [==============================] - 1s 13us/step - loss: 0.0189 - acc: 0.9946 - val_loss: 0.0407 - val_acc: 0.9880\n",
            "Epoch 12/20\n",
            "60000/60000 [==============================] - 1s 13us/step - loss: 0.0180 - acc: 0.9948 - val_loss: 0.0390 - val_acc: 0.9883\n",
            "Epoch 13/20\n",
            "60000/60000 [==============================] - 1s 13us/step - loss: 0.0173 - acc: 0.9950 - val_loss: 0.0399 - val_acc: 0.9881\n",
            "Epoch 14/20\n",
            "60000/60000 [==============================] - 1s 13us/step - loss: 0.0165 - acc: 0.9953 - val_loss: 0.0379 - val_acc: 0.9886\n",
            "Epoch 15/20\n",
            "60000/60000 [==============================] - 1s 12us/step - loss: 0.0159 - acc: 0.9954 - val_loss: 0.0374 - val_acc: 0.9888\n",
            "Epoch 16/20\n",
            "60000/60000 [==============================] - 1s 13us/step - loss: 0.0154 - acc: 0.9956 - val_loss: 0.0371 - val_acc: 0.9888\n",
            "Epoch 17/20\n",
            "60000/60000 [==============================] - 1s 12us/step - loss: 0.0148 - acc: 0.9957 - val_loss: 0.0361 - val_acc: 0.9891\n",
            "Epoch 18/20\n",
            "60000/60000 [==============================] - 1s 13us/step - loss: 0.0144 - acc: 0.9959 - val_loss: 0.0362 - val_acc: 0.9892\n",
            "Epoch 19/20\n",
            "60000/60000 [==============================] - 1s 13us/step - loss: 0.0139 - acc: 0.9959 - val_loss: 0.0367 - val_acc: 0.9890\n",
            "Epoch 20/20\n",
            "60000/60000 [==============================] - 1s 13us/step - loss: 0.0135 - acc: 0.9961 - val_loss: 0.0352 - val_acc: 0.9895\n",
            "20000/20000 [==============================] - 1s 51us/step\n",
            "Accuracy on Test set is: 0.9895200000762939\n"
          ],
          "name": "stdout"
        }
      ]
    },
    {
      "cell_type": "code",
      "metadata": {
        "id": "BHV7WQBk8ZOZ",
        "colab_type": "code",
        "outputId": "09ae1e46-116e-40a5-a8df-408ff31bd38f",
        "colab": {
          "base_uri": "https://localhost:8080/",
          "height": 241
        }
      },
      "source": [
        "visualize_loss_and_acc(ss_mlp_history)\n"
      ],
      "execution_count": 0,
      "outputs": [
        {
          "output_type": "display_data",
          "data": {
            "image/png": "[encoded data removed]",
            "text/plain": [
              "<Figure size 720x216 with 2 Axes>"
            ]
          },
          "metadata": {
            "tags": []
          }
        }
      ]
    },
    {
      "cell_type": "markdown",
      "metadata": {
        "id": "4u6BnbyZ9SqL",
        "colab_type": "text"
      },
      "source": [
        "As you can see, The model is overfitting quite fast! In this section you have to change the model, its prameters, and maybe add new layers to improve overfitting!"
      ]
    },
    {
      "cell_type": "code",
      "metadata": {
        "id": "jGPq_ByK8rE8",
        "colab_type": "code",
        "outputId": "e38fd591-cdbf-49ef-e87e-3559cc78b7d1",
        "colab": {
          "base_uri": "https://localhost:8080/",
          "height": 840
        }
      },
      "source": [
        "ss_imprv = Sequential()\n",
        "\n",
        "ss_imprv.add(Dense(16, activation='relu'))\n",
        "ss_imprv.add(Dropout(0.5))                         # hidden layer dropout\n",
        "ss_imprv.add(Dense(16, activation='relu'))         \n",
        "ss_imprv.add(Dropout(0.5))                         # hidden layer dropout\n",
        "ss_imprv.add(Dense(10, activation='sigmoid'))\n",
        "\n",
        "ss_imprv.compile(optimizer='rmsprop', \n",
        "              loss='binary_crossentropy', \n",
        "              metrics=['acc'])\n",
        "\n",
        "ss_imprv_history = ss_imprv.fit(x_train, \n",
        "                                y_train, \n",
        "                                epochs=20, \n",
        "                                batch_size=512, \n",
        "                                validation_data=(x_test, y_test))\n",
        "\n",
        "print(\"Accuracy on Test set is:\", ss_imprv.evaluate(x_test, y_test)[1])"
      ],
      "execution_count": 0,
      "outputs": [
        {
          "output_type": "stream",
          "text": [
            "W0714 12:56:02.543874 140006053853056 deprecation.py:506] From /usr/local/lib/python3.6/dist-packages/keras/backend/tensorflow_backend.py:3445: calling dropout (from tensorflow.python.ops.nn_ops) with keep_prob is deprecated and will be removed in a future version.\n",
            "Instructions for updating:\n",
            "Please use `rate` instead of `keep_prob`. Rate should be set to `rate = 1 - keep_prob`.\n"
          ],
          "name": "stderr"
        },
        {
          "output_type": "stream",
          "text": [
            "Train on 60000 samples, validate on 20000 samples\n",
            "Epoch 1/20\n",
            "60000/60000 [==============================] - 1s 20us/step - loss: 0.5200 - acc: 0.7578 - val_loss: 0.2958 - val_acc: 0.9108\n",
            "Epoch 2/20\n",
            "60000/60000 [==============================] - 1s 14us/step - loss: 0.3588 - acc: 0.8666 - val_loss: 0.2210 - val_acc: 0.9131\n",
            "Epoch 3/20\n",
            "60000/60000 [==============================] - 1s 13us/step - loss: 0.2898 - acc: 0.8963 - val_loss: 0.1698 - val_acc: 0.9224\n",
            "Epoch 4/20\n",
            "60000/60000 [==============================] - 1s 14us/step - loss: 0.2503 - acc: 0.9081 - val_loss: 0.1435 - val_acc: 0.9315\n",
            "Epoch 5/20\n",
            "60000/60000 [==============================] - 1s 13us/step - loss: 0.2272 - acc: 0.9153 - val_loss: 0.1321 - val_acc: 0.9411\n",
            "Epoch 6/20\n",
            "60000/60000 [==============================] - 1s 14us/step - loss: 0.2112 - acc: 0.9198 - val_loss: 0.1199 - val_acc: 0.9480\n",
            "Epoch 7/20\n",
            "60000/60000 [==============================] - 1s 14us/step - loss: 0.2032 - acc: 0.9221 - val_loss: 0.1145 - val_acc: 0.9523\n",
            "Epoch 8/20\n",
            "60000/60000 [==============================] - 1s 13us/step - loss: 0.1967 - acc: 0.9242 - val_loss: 0.1121 - val_acc: 0.9524\n",
            "Epoch 9/20\n",
            "60000/60000 [==============================] - 1s 13us/step - loss: 0.1928 - acc: 0.9262 - val_loss: 0.1120 - val_acc: 0.9519\n",
            "Epoch 10/20\n",
            "60000/60000 [==============================] - 1s 13us/step - loss: 0.1900 - acc: 0.9269 - val_loss: 0.1096 - val_acc: 0.9529\n",
            "Epoch 11/20\n",
            "60000/60000 [==============================] - 1s 14us/step - loss: 0.1868 - acc: 0.9279 - val_loss: 0.1087 - val_acc: 0.9534\n",
            "Epoch 12/20\n",
            "60000/60000 [==============================] - 1s 13us/step - loss: 0.1849 - acc: 0.9289 - val_loss: 0.1077 - val_acc: 0.9538\n",
            "Epoch 13/20\n",
            "60000/60000 [==============================] - 1s 15us/step - loss: 0.1843 - acc: 0.9289 - val_loss: 0.1060 - val_acc: 0.9563\n",
            "Epoch 14/20\n",
            "60000/60000 [==============================] - 1s 13us/step - loss: 0.1824 - acc: 0.9293 - val_loss: 0.1051 - val_acc: 0.9553\n",
            "Epoch 15/20\n",
            "60000/60000 [==============================] - 1s 13us/step - loss: 0.1815 - acc: 0.9298 - val_loss: 0.1059 - val_acc: 0.9545\n",
            "Epoch 16/20\n",
            "60000/60000 [==============================] - 1s 13us/step - loss: 0.1812 - acc: 0.9299 - val_loss: 0.1035 - val_acc: 0.9569\n",
            "Epoch 17/20\n",
            "60000/60000 [==============================] - 1s 13us/step - loss: 0.1803 - acc: 0.9303 - val_loss: 0.1060 - val_acc: 0.9545\n",
            "Epoch 18/20\n",
            "60000/60000 [==============================] - 1s 14us/step - loss: 0.1798 - acc: 0.9305 - val_loss: 0.1035 - val_acc: 0.9567\n",
            "Epoch 19/20\n",
            "60000/60000 [==============================] - 1s 13us/step - loss: 0.1786 - acc: 0.9309 - val_loss: 0.1047 - val_acc: 0.9557\n",
            "Epoch 20/20\n",
            "60000/60000 [==============================] - 1s 13us/step - loss: 0.1787 - acc: 0.9311 - val_loss: 0.1051 - val_acc: 0.9551\n",
            "20000/20000 [==============================] - 1s 53us/step\n",
            "Accuracy on Test set is: 0.9550749941825867\n"
          ],
          "name": "stdout"
        }
      ]
    },
    {
      "cell_type": "markdown",
      "metadata": {
        "id": "Xrgkqrqq9zQ_",
        "colab_type": "text"
      },
      "source": [
        "Improves model:"
      ]
    },
    {
      "cell_type": "code",
      "metadata": {
        "id": "dBoks9Vs9ltP",
        "colab_type": "code",
        "outputId": "12d75d28-b610-4b36-b7db-c9c7c02c747f",
        "colab": {
          "base_uri": "https://localhost:8080/",
          "height": 241
        }
      },
      "source": [
        "visualize_loss_and_acc(ss_imprv_history)"
      ],
      "execution_count": 0,
      "outputs": [
        {
          "output_type": "display_data",
          "data": {
            "image/png": "[encoded data removed]",
            "text/plain": [
              "<Figure size 720x216 with 2 Axes>"
            ]
          },
          "metadata": {
            "tags": []
          }
        }
      ]
    },
    {
      "cell_type": "markdown",
      "metadata": {
        "id": "RpHaMulx9xZD",
        "colab_type": "text"
      },
      "source": [
        "Base model:"
      ]
    },
    {
      "cell_type": "code",
      "metadata": {
        "id": "YdAufY-v9uhE",
        "colab_type": "code",
        "outputId": "1b1e6984-6ce9-4261-bbf8-07ce9c3e0613",
        "colab": {
          "base_uri": "https://localhost:8080/",
          "height": 241
        }
      },
      "source": [
        "visualize_loss_and_acc(ss_mlp_history)\n"
      ],
      "execution_count": 0,
      "outputs": [
        {
          "output_type": "display_data",
          "data": {
            "image/png": "[encoded data removed]",
            "text/plain": [
              "<Figure size 720x216 with 2 Axes>"
            ]
          },
          "metadata": {
            "tags": []
          }
        }
      ]
    }
  ]
}